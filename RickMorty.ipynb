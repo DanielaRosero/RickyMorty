{
 "cells": [
  {
   "cell_type": "code",
   "execution_count": 82,
   "metadata": {},
   "outputs": [],
   "source": [
    "import requests \n",
    "import os\n",
    "import pandas as pd\n",
    "import numpy as np \n",
    "import plotly.express as px"
   ]
  },
  {
   "cell_type": "code",
   "execution_count": null,
   "metadata": {},
   "outputs": [],
   "source": [
    "#CREAR LA FUNCIÓN DE OBTENCIÓN DE PERSONAJES MEDIANTE EL USO DE API \n",
    "\n",
    "\"\"\"\n",
    "   La función \"obtener_datos_personajes\" crea una lista vacía llamada personajes.\n",
    "   Establece una variable i en 0.\n",
    "   Mientras la condición sea verdadera, realiza una solicitud GET a la URL establecida en la variable base_url,\n",
    "   pasando como parámetro el valor de la variable i más 1.\n",
    "   La variable d recibe el resultado de la solicitud, el cual es un archivo JSON, y se almacena el valor de \"results\".\n",
    "   Si el resultado es nulo, se rompe el bucle.\n",
    "   En caso contrario, se extiende la lista personajes con el resultado de la solicitud y se incrementa la variable i en 1.\n",
    "\"\"\""
   ]
  },
  {
   "cell_type": "code",
   "execution_count": 71,
   "metadata": {},
   "outputs": [],
   "source": [
    "def obtener_datos_personajes(base_url):\n",
    "    personajes = []\n",
    "    i = 0\n",
    "    while True:\n",
    "        url_con_paginacion = f\"{base_url}?page={i+1}\" # para las webs con más de una página\n",
    "        respuesta = requests.get(url_con_paginacion) # Se solicita la url\n",
    "        datos = respuesta.json() #para pasar a JSON\n",
    "        resultados = datos.get('results')\n",
    "        if not resultados:\n",
    "            break\n",
    "        personajes.extend(resultados)\n",
    "        i += 1\n",
    "    return personajes\n",
    "\n",
    "base_url = \"https://rickandmortyapi.com/api/character\"\n",
    "datos_personajes = obtener_datos_personajes(base_url)\n",
    "df = pd.DataFrame(datos_personajes)\n"
   ]
  },
  {
   "cell_type": "code",
   "execution_count": 58,
   "metadata": {},
   "outputs": [
    {
     "data": {
      "text/plain": [
       "(826, 12)"
      ]
     },
     "execution_count": 58,
     "metadata": {},
     "output_type": "execute_result"
    }
   ],
   "source": [
    "df.shape"
   ]
  },
  {
   "cell_type": "markdown",
   "metadata": {},
   "source": [
    "#### Guardas los datos en forma de csv"
   ]
  },
  {
   "cell_type": "code",
   "execution_count": 59,
   "metadata": {},
   "outputs": [],
   "source": [
    "df.to_csv('personajes_rickymorty')"
   ]
  },
  {
   "cell_type": "markdown",
   "metadata": {},
   "source": [
    "#### Limpiamos la columna origin dejando solo el nombre de donde nació (despues de 'name': y antes de url': '')"
   ]
  },
  {
   "cell_type": "code",
   "execution_count": 72,
   "metadata": {},
   "outputs": [
    {
     "data": {
      "text/html": [
       "<div>\n",
       "<style scoped>\n",
       "    .dataframe tbody tr th:only-of-type {\n",
       "        vertical-align: middle;\n",
       "    }\n",
       "\n",
       "    .dataframe tbody tr th {\n",
       "        vertical-align: top;\n",
       "    }\n",
       "\n",
       "    .dataframe thead th {\n",
       "        text-align: right;\n",
       "    }\n",
       "</style>\n",
       "<table border=\"1\" class=\"dataframe\">\n",
       "  <thead>\n",
       "    <tr style=\"text-align: right;\">\n",
       "      <th></th>\n",
       "      <th>id</th>\n",
       "      <th>name</th>\n",
       "      <th>status</th>\n",
       "      <th>species</th>\n",
       "      <th>type</th>\n",
       "      <th>gender</th>\n",
       "      <th>origin</th>\n",
       "      <th>location</th>\n",
       "      <th>image</th>\n",
       "      <th>episode</th>\n",
       "      <th>url</th>\n",
       "      <th>created</th>\n",
       "    </tr>\n",
       "  </thead>\n",
       "  <tbody>\n",
       "    <tr>\n",
       "      <th>0</th>\n",
       "      <td>1</td>\n",
       "      <td>Rick Sanchez</td>\n",
       "      <td>Alive</td>\n",
       "      <td>Human</td>\n",
       "      <td></td>\n",
       "      <td>Male</td>\n",
       "      <td>Earth (C-137)</td>\n",
       "      <td>{'name': 'Citadel of Ricks', 'url': 'https://r...</td>\n",
       "      <td>https://rickandmortyapi.com/api/character/avat...</td>\n",
       "      <td>[https://rickandmortyapi.com/api/episode/1, ht...</td>\n",
       "      <td>https://rickandmortyapi.com/api/character/1</td>\n",
       "      <td>2017-11-04T18:48:46.250Z</td>\n",
       "    </tr>\n",
       "    <tr>\n",
       "      <th>1</th>\n",
       "      <td>2</td>\n",
       "      <td>Morty Smith</td>\n",
       "      <td>Alive</td>\n",
       "      <td>Human</td>\n",
       "      <td></td>\n",
       "      <td>Male</td>\n",
       "      <td>unknown</td>\n",
       "      <td>{'name': 'Citadel of Ricks', 'url': 'https://r...</td>\n",
       "      <td>https://rickandmortyapi.com/api/character/avat...</td>\n",
       "      <td>[https://rickandmortyapi.com/api/episode/1, ht...</td>\n",
       "      <td>https://rickandmortyapi.com/api/character/2</td>\n",
       "      <td>2017-11-04T18:50:21.651Z</td>\n",
       "    </tr>\n",
       "    <tr>\n",
       "      <th>2</th>\n",
       "      <td>3</td>\n",
       "      <td>Summer Smith</td>\n",
       "      <td>Alive</td>\n",
       "      <td>Human</td>\n",
       "      <td></td>\n",
       "      <td>Female</td>\n",
       "      <td>Earth (Replacement Dimension)</td>\n",
       "      <td>{'name': 'Earth (Replacement Dimension)', 'url...</td>\n",
       "      <td>https://rickandmortyapi.com/api/character/avat...</td>\n",
       "      <td>[https://rickandmortyapi.com/api/episode/6, ht...</td>\n",
       "      <td>https://rickandmortyapi.com/api/character/3</td>\n",
       "      <td>2017-11-04T19:09:56.428Z</td>\n",
       "    </tr>\n",
       "  </tbody>\n",
       "</table>\n",
       "</div>"
      ],
      "text/plain": [
       "   id          name status species type  gender  \\\n",
       "0   1  Rick Sanchez  Alive   Human         Male   \n",
       "1   2   Morty Smith  Alive   Human         Male   \n",
       "2   3  Summer Smith  Alive   Human       Female   \n",
       "\n",
       "                          origin  \\\n",
       "0                  Earth (C-137)   \n",
       "1                        unknown   \n",
       "2  Earth (Replacement Dimension)   \n",
       "\n",
       "                                            location  \\\n",
       "0  {'name': 'Citadel of Ricks', 'url': 'https://r...   \n",
       "1  {'name': 'Citadel of Ricks', 'url': 'https://r...   \n",
       "2  {'name': 'Earth (Replacement Dimension)', 'url...   \n",
       "\n",
       "                                               image  \\\n",
       "0  https://rickandmortyapi.com/api/character/avat...   \n",
       "1  https://rickandmortyapi.com/api/character/avat...   \n",
       "2  https://rickandmortyapi.com/api/character/avat...   \n",
       "\n",
       "                                             episode  \\\n",
       "0  [https://rickandmortyapi.com/api/episode/1, ht...   \n",
       "1  [https://rickandmortyapi.com/api/episode/1, ht...   \n",
       "2  [https://rickandmortyapi.com/api/episode/6, ht...   \n",
       "\n",
       "                                           url                   created  \n",
       "0  https://rickandmortyapi.com/api/character/1  2017-11-04T18:48:46.250Z  \n",
       "1  https://rickandmortyapi.com/api/character/2  2017-11-04T18:50:21.651Z  \n",
       "2  https://rickandmortyapi.com/api/character/3  2017-11-04T19:09:56.428Z  "
      ]
     },
     "execution_count": 72,
     "metadata": {},
     "output_type": "execute_result"
    }
   ],
   "source": [
    "def primer_valor(diccionario): #La columna 'origin' está compues de diccionarios. Creamos una función que se quede con el valor de la primera clave de cada diccionario.\n",
    "    if diccionario:\n",
    "        return diccionario[list(diccionario.keys())[0]]\n",
    "    return None\n",
    "\n",
    "df['origin'] = df['origin'].apply(primer_valor)\n",
    "df.head(3)"
   ]
  },
  {
   "cell_type": "markdown",
   "metadata": {},
   "source": [
    "#### hago lo mismo con la columna location "
   ]
  },
  {
   "cell_type": "code",
   "execution_count": 73,
   "metadata": {},
   "outputs": [
    {
     "data": {
      "text/html": [
       "<div>\n",
       "<style scoped>\n",
       "    .dataframe tbody tr th:only-of-type {\n",
       "        vertical-align: middle;\n",
       "    }\n",
       "\n",
       "    .dataframe tbody tr th {\n",
       "        vertical-align: top;\n",
       "    }\n",
       "\n",
       "    .dataframe thead th {\n",
       "        text-align: right;\n",
       "    }\n",
       "</style>\n",
       "<table border=\"1\" class=\"dataframe\">\n",
       "  <thead>\n",
       "    <tr style=\"text-align: right;\">\n",
       "      <th></th>\n",
       "      <th>id</th>\n",
       "      <th>name</th>\n",
       "      <th>status</th>\n",
       "      <th>species</th>\n",
       "      <th>type</th>\n",
       "      <th>gender</th>\n",
       "      <th>origin</th>\n",
       "      <th>location</th>\n",
       "      <th>image</th>\n",
       "      <th>episode</th>\n",
       "      <th>url</th>\n",
       "      <th>created</th>\n",
       "    </tr>\n",
       "  </thead>\n",
       "  <tbody>\n",
       "    <tr>\n",
       "      <th>0</th>\n",
       "      <td>1</td>\n",
       "      <td>Rick Sanchez</td>\n",
       "      <td>Alive</td>\n",
       "      <td>Human</td>\n",
       "      <td></td>\n",
       "      <td>Male</td>\n",
       "      <td>Earth (C-137)</td>\n",
       "      <td>Citadel of Ricks</td>\n",
       "      <td>https://rickandmortyapi.com/api/character/avat...</td>\n",
       "      <td>[https://rickandmortyapi.com/api/episode/1, ht...</td>\n",
       "      <td>https://rickandmortyapi.com/api/character/1</td>\n",
       "      <td>2017-11-04T18:48:46.250Z</td>\n",
       "    </tr>\n",
       "    <tr>\n",
       "      <th>1</th>\n",
       "      <td>2</td>\n",
       "      <td>Morty Smith</td>\n",
       "      <td>Alive</td>\n",
       "      <td>Human</td>\n",
       "      <td></td>\n",
       "      <td>Male</td>\n",
       "      <td>unknown</td>\n",
       "      <td>Citadel of Ricks</td>\n",
       "      <td>https://rickandmortyapi.com/api/character/avat...</td>\n",
       "      <td>[https://rickandmortyapi.com/api/episode/1, ht...</td>\n",
       "      <td>https://rickandmortyapi.com/api/character/2</td>\n",
       "      <td>2017-11-04T18:50:21.651Z</td>\n",
       "    </tr>\n",
       "    <tr>\n",
       "      <th>2</th>\n",
       "      <td>3</td>\n",
       "      <td>Summer Smith</td>\n",
       "      <td>Alive</td>\n",
       "      <td>Human</td>\n",
       "      <td></td>\n",
       "      <td>Female</td>\n",
       "      <td>Earth (Replacement Dimension)</td>\n",
       "      <td>Earth (Replacement Dimension)</td>\n",
       "      <td>https://rickandmortyapi.com/api/character/avat...</td>\n",
       "      <td>[https://rickandmortyapi.com/api/episode/6, ht...</td>\n",
       "      <td>https://rickandmortyapi.com/api/character/3</td>\n",
       "      <td>2017-11-04T19:09:56.428Z</td>\n",
       "    </tr>\n",
       "  </tbody>\n",
       "</table>\n",
       "</div>"
      ],
      "text/plain": [
       "   id          name status species type  gender  \\\n",
       "0   1  Rick Sanchez  Alive   Human         Male   \n",
       "1   2   Morty Smith  Alive   Human         Male   \n",
       "2   3  Summer Smith  Alive   Human       Female   \n",
       "\n",
       "                          origin                       location  \\\n",
       "0                  Earth (C-137)               Citadel of Ricks   \n",
       "1                        unknown               Citadel of Ricks   \n",
       "2  Earth (Replacement Dimension)  Earth (Replacement Dimension)   \n",
       "\n",
       "                                               image  \\\n",
       "0  https://rickandmortyapi.com/api/character/avat...   \n",
       "1  https://rickandmortyapi.com/api/character/avat...   \n",
       "2  https://rickandmortyapi.com/api/character/avat...   \n",
       "\n",
       "                                             episode  \\\n",
       "0  [https://rickandmortyapi.com/api/episode/1, ht...   \n",
       "1  [https://rickandmortyapi.com/api/episode/1, ht...   \n",
       "2  [https://rickandmortyapi.com/api/episode/6, ht...   \n",
       "\n",
       "                                           url                   created  \n",
       "0  https://rickandmortyapi.com/api/character/1  2017-11-04T18:48:46.250Z  \n",
       "1  https://rickandmortyapi.com/api/character/2  2017-11-04T18:50:21.651Z  \n",
       "2  https://rickandmortyapi.com/api/character/3  2017-11-04T19:09:56.428Z  "
      ]
     },
     "execution_count": 73,
     "metadata": {},
     "output_type": "execute_result"
    }
   ],
   "source": [
    "df['location'] = df['location'].apply(primer_valor)  # se puede aplicar la función creada antes.\n",
    "df.head(3)"
   ]
  },
  {
   "cell_type": "markdown",
   "metadata": {},
   "source": [
    "#### elimino la columna image, url y created ya que no las vamos a usar en este ejercicio"
   ]
  },
  {
   "cell_type": "code",
   "execution_count": 79,
   "metadata": {},
   "outputs": [
    {
     "data": {
      "text/html": [
       "<div>\n",
       "<style scoped>\n",
       "    .dataframe tbody tr th:only-of-type {\n",
       "        vertical-align: middle;\n",
       "    }\n",
       "\n",
       "    .dataframe tbody tr th {\n",
       "        vertical-align: top;\n",
       "    }\n",
       "\n",
       "    .dataframe thead th {\n",
       "        text-align: right;\n",
       "    }\n",
       "</style>\n",
       "<table border=\"1\" class=\"dataframe\">\n",
       "  <thead>\n",
       "    <tr style=\"text-align: right;\">\n",
       "      <th></th>\n",
       "      <th>id</th>\n",
       "      <th>name</th>\n",
       "      <th>status</th>\n",
       "      <th>species</th>\n",
       "      <th>type</th>\n",
       "      <th>gender</th>\n",
       "      <th>origin</th>\n",
       "      <th>location</th>\n",
       "      <th>episode</th>\n",
       "    </tr>\n",
       "  </thead>\n",
       "  <tbody>\n",
       "    <tr>\n",
       "      <th>0</th>\n",
       "      <td>1</td>\n",
       "      <td>Rick Sanchez</td>\n",
       "      <td>Alive</td>\n",
       "      <td>Human</td>\n",
       "      <td></td>\n",
       "      <td>Male</td>\n",
       "      <td>Earth (C-137)</td>\n",
       "      <td>Citadel of Ricks</td>\n",
       "      <td>[https://rickandmortyapi.com/api/episode/1, ht...</td>\n",
       "    </tr>\n",
       "    <tr>\n",
       "      <th>1</th>\n",
       "      <td>2</td>\n",
       "      <td>Morty Smith</td>\n",
       "      <td>Alive</td>\n",
       "      <td>Human</td>\n",
       "      <td></td>\n",
       "      <td>Male</td>\n",
       "      <td>unknown</td>\n",
       "      <td>Citadel of Ricks</td>\n",
       "      <td>[https://rickandmortyapi.com/api/episode/1, ht...</td>\n",
       "    </tr>\n",
       "    <tr>\n",
       "      <th>2</th>\n",
       "      <td>3</td>\n",
       "      <td>Summer Smith</td>\n",
       "      <td>Alive</td>\n",
       "      <td>Human</td>\n",
       "      <td></td>\n",
       "      <td>Female</td>\n",
       "      <td>Earth (Replacement Dimension)</td>\n",
       "      <td>Earth (Replacement Dimension)</td>\n",
       "      <td>[https://rickandmortyapi.com/api/episode/6, ht...</td>\n",
       "    </tr>\n",
       "    <tr>\n",
       "      <th>3</th>\n",
       "      <td>4</td>\n",
       "      <td>Beth Smith</td>\n",
       "      <td>Alive</td>\n",
       "      <td>Human</td>\n",
       "      <td></td>\n",
       "      <td>Female</td>\n",
       "      <td>Earth (Replacement Dimension)</td>\n",
       "      <td>Earth (Replacement Dimension)</td>\n",
       "      <td>[https://rickandmortyapi.com/api/episode/6, ht...</td>\n",
       "    </tr>\n",
       "    <tr>\n",
       "      <th>4</th>\n",
       "      <td>5</td>\n",
       "      <td>Jerry Smith</td>\n",
       "      <td>Alive</td>\n",
       "      <td>Human</td>\n",
       "      <td></td>\n",
       "      <td>Male</td>\n",
       "      <td>Earth (Replacement Dimension)</td>\n",
       "      <td>Earth (Replacement Dimension)</td>\n",
       "      <td>[https://rickandmortyapi.com/api/episode/6, ht...</td>\n",
       "    </tr>\n",
       "  </tbody>\n",
       "</table>\n",
       "</div>"
      ],
      "text/plain": [
       "   id          name status species type  gender  \\\n",
       "0   1  Rick Sanchez  Alive   Human         Male   \n",
       "1   2   Morty Smith  Alive   Human         Male   \n",
       "2   3  Summer Smith  Alive   Human       Female   \n",
       "3   4    Beth Smith  Alive   Human       Female   \n",
       "4   5   Jerry Smith  Alive   Human         Male   \n",
       "\n",
       "                          origin                       location  \\\n",
       "0                  Earth (C-137)               Citadel of Ricks   \n",
       "1                        unknown               Citadel of Ricks   \n",
       "2  Earth (Replacement Dimension)  Earth (Replacement Dimension)   \n",
       "3  Earth (Replacement Dimension)  Earth (Replacement Dimension)   \n",
       "4  Earth (Replacement Dimension)  Earth (Replacement Dimension)   \n",
       "\n",
       "                                             episode  \n",
       "0  [https://rickandmortyapi.com/api/episode/1, ht...  \n",
       "1  [https://rickandmortyapi.com/api/episode/1, ht...  \n",
       "2  [https://rickandmortyapi.com/api/episode/6, ht...  \n",
       "3  [https://rickandmortyapi.com/api/episode/6, ht...  \n",
       "4  [https://rickandmortyapi.com/api/episode/6, ht...  "
      ]
     },
     "execution_count": 79,
     "metadata": {},
     "output_type": "execute_result"
    }
   ],
   "source": [
    "df2 = df.drop(['image','url','created'], axis=1)\n",
    "df2.head()"
   ]
  },
  {
   "cell_type": "markdown",
   "metadata": {},
   "source": [
    "#### Proporción de géneros\n"
   ]
  },
  {
   "cell_type": "code",
   "execution_count": 94,
   "metadata": {},
   "outputs": [
    {
     "data": {
      "application/vnd.plotly.v1+json": {
       "config": {
        "plotlyServerURL": "https://plot.ly"
       },
       "data": [
        {
         "domain": {
          "x": [
           0,
           1
          ],
          "y": [
           0,
           1
          ]
         },
         "hovertemplate": "Género=%{label}<br>Cantidad=%{value}<extra></extra>",
         "labels": [
          "Male",
          "Female",
          "unknown",
          "Genderless"
         ],
         "legendgroup": "",
         "name": "",
         "showlegend": true,
         "type": "pie",
         "values": [
          610,
          148,
          49,
          19
         ]
        }
       ],
       "layout": {
        "height": 600,
        "legend": {
         "tracegroupgap": 0
        },
        "template": {
         "data": {
          "bar": [
           {
            "error_x": {
             "color": "#f2f5fa"
            },
            "error_y": {
             "color": "#f2f5fa"
            },
            "marker": {
             "line": {
              "color": "rgb(17,17,17)",
              "width": 0.5
             },
             "pattern": {
              "fillmode": "overlay",
              "size": 10,
              "solidity": 0.2
             }
            },
            "type": "bar"
           }
          ],
          "barpolar": [
           {
            "marker": {
             "line": {
              "color": "rgb(17,17,17)",
              "width": 0.5
             },
             "pattern": {
              "fillmode": "overlay",
              "size": 10,
              "solidity": 0.2
             }
            },
            "type": "barpolar"
           }
          ],
          "carpet": [
           {
            "aaxis": {
             "endlinecolor": "#A2B1C6",
             "gridcolor": "#506784",
             "linecolor": "#506784",
             "minorgridcolor": "#506784",
             "startlinecolor": "#A2B1C6"
            },
            "baxis": {
             "endlinecolor": "#A2B1C6",
             "gridcolor": "#506784",
             "linecolor": "#506784",
             "minorgridcolor": "#506784",
             "startlinecolor": "#A2B1C6"
            },
            "type": "carpet"
           }
          ],
          "choropleth": [
           {
            "colorbar": {
             "outlinewidth": 0,
             "ticks": ""
            },
            "type": "choropleth"
           }
          ],
          "contour": [
           {
            "colorbar": {
             "outlinewidth": 0,
             "ticks": ""
            },
            "colorscale": [
             [
              0,
              "#0d0887"
             ],
             [
              0.1111111111111111,
              "#46039f"
             ],
             [
              0.2222222222222222,
              "#7201a8"
             ],
             [
              0.3333333333333333,
              "#9c179e"
             ],
             [
              0.4444444444444444,
              "#bd3786"
             ],
             [
              0.5555555555555556,
              "#d8576b"
             ],
             [
              0.6666666666666666,
              "#ed7953"
             ],
             [
              0.7777777777777778,
              "#fb9f3a"
             ],
             [
              0.8888888888888888,
              "#fdca26"
             ],
             [
              1,
              "#f0f921"
             ]
            ],
            "type": "contour"
           }
          ],
          "contourcarpet": [
           {
            "colorbar": {
             "outlinewidth": 0,
             "ticks": ""
            },
            "type": "contourcarpet"
           }
          ],
          "heatmap": [
           {
            "colorbar": {
             "outlinewidth": 0,
             "ticks": ""
            },
            "colorscale": [
             [
              0,
              "#0d0887"
             ],
             [
              0.1111111111111111,
              "#46039f"
             ],
             [
              0.2222222222222222,
              "#7201a8"
             ],
             [
              0.3333333333333333,
              "#9c179e"
             ],
             [
              0.4444444444444444,
              "#bd3786"
             ],
             [
              0.5555555555555556,
              "#d8576b"
             ],
             [
              0.6666666666666666,
              "#ed7953"
             ],
             [
              0.7777777777777778,
              "#fb9f3a"
             ],
             [
              0.8888888888888888,
              "#fdca26"
             ],
             [
              1,
              "#f0f921"
             ]
            ],
            "type": "heatmap"
           }
          ],
          "heatmapgl": [
           {
            "colorbar": {
             "outlinewidth": 0,
             "ticks": ""
            },
            "colorscale": [
             [
              0,
              "#0d0887"
             ],
             [
              0.1111111111111111,
              "#46039f"
             ],
             [
              0.2222222222222222,
              "#7201a8"
             ],
             [
              0.3333333333333333,
              "#9c179e"
             ],
             [
              0.4444444444444444,
              "#bd3786"
             ],
             [
              0.5555555555555556,
              "#d8576b"
             ],
             [
              0.6666666666666666,
              "#ed7953"
             ],
             [
              0.7777777777777778,
              "#fb9f3a"
             ],
             [
              0.8888888888888888,
              "#fdca26"
             ],
             [
              1,
              "#f0f921"
             ]
            ],
            "type": "heatmapgl"
           }
          ],
          "histogram": [
           {
            "marker": {
             "pattern": {
              "fillmode": "overlay",
              "size": 10,
              "solidity": 0.2
             }
            },
            "type": "histogram"
           }
          ],
          "histogram2d": [
           {
            "colorbar": {
             "outlinewidth": 0,
             "ticks": ""
            },
            "colorscale": [
             [
              0,
              "#0d0887"
             ],
             [
              0.1111111111111111,
              "#46039f"
             ],
             [
              0.2222222222222222,
              "#7201a8"
             ],
             [
              0.3333333333333333,
              "#9c179e"
             ],
             [
              0.4444444444444444,
              "#bd3786"
             ],
             [
              0.5555555555555556,
              "#d8576b"
             ],
             [
              0.6666666666666666,
              "#ed7953"
             ],
             [
              0.7777777777777778,
              "#fb9f3a"
             ],
             [
              0.8888888888888888,
              "#fdca26"
             ],
             [
              1,
              "#f0f921"
             ]
            ],
            "type": "histogram2d"
           }
          ],
          "histogram2dcontour": [
           {
            "colorbar": {
             "outlinewidth": 0,
             "ticks": ""
            },
            "colorscale": [
             [
              0,
              "#0d0887"
             ],
             [
              0.1111111111111111,
              "#46039f"
             ],
             [
              0.2222222222222222,
              "#7201a8"
             ],
             [
              0.3333333333333333,
              "#9c179e"
             ],
             [
              0.4444444444444444,
              "#bd3786"
             ],
             [
              0.5555555555555556,
              "#d8576b"
             ],
             [
              0.6666666666666666,
              "#ed7953"
             ],
             [
              0.7777777777777778,
              "#fb9f3a"
             ],
             [
              0.8888888888888888,
              "#fdca26"
             ],
             [
              1,
              "#f0f921"
             ]
            ],
            "type": "histogram2dcontour"
           }
          ],
          "mesh3d": [
           {
            "colorbar": {
             "outlinewidth": 0,
             "ticks": ""
            },
            "type": "mesh3d"
           }
          ],
          "parcoords": [
           {
            "line": {
             "colorbar": {
              "outlinewidth": 0,
              "ticks": ""
             }
            },
            "type": "parcoords"
           }
          ],
          "pie": [
           {
            "automargin": true,
            "type": "pie"
           }
          ],
          "scatter": [
           {
            "marker": {
             "line": {
              "color": "#283442"
             }
            },
            "type": "scatter"
           }
          ],
          "scatter3d": [
           {
            "line": {
             "colorbar": {
              "outlinewidth": 0,
              "ticks": ""
             }
            },
            "marker": {
             "colorbar": {
              "outlinewidth": 0,
              "ticks": ""
             }
            },
            "type": "scatter3d"
           }
          ],
          "scattercarpet": [
           {
            "marker": {
             "colorbar": {
              "outlinewidth": 0,
              "ticks": ""
             }
            },
            "type": "scattercarpet"
           }
          ],
          "scattergeo": [
           {
            "marker": {
             "colorbar": {
              "outlinewidth": 0,
              "ticks": ""
             }
            },
            "type": "scattergeo"
           }
          ],
          "scattergl": [
           {
            "marker": {
             "line": {
              "color": "#283442"
             }
            },
            "type": "scattergl"
           }
          ],
          "scattermapbox": [
           {
            "marker": {
             "colorbar": {
              "outlinewidth": 0,
              "ticks": ""
             }
            },
            "type": "scattermapbox"
           }
          ],
          "scatterpolar": [
           {
            "marker": {
             "colorbar": {
              "outlinewidth": 0,
              "ticks": ""
             }
            },
            "type": "scatterpolar"
           }
          ],
          "scatterpolargl": [
           {
            "marker": {
             "colorbar": {
              "outlinewidth": 0,
              "ticks": ""
             }
            },
            "type": "scatterpolargl"
           }
          ],
          "scatterternary": [
           {
            "marker": {
             "colorbar": {
              "outlinewidth": 0,
              "ticks": ""
             }
            },
            "type": "scatterternary"
           }
          ],
          "surface": [
           {
            "colorbar": {
             "outlinewidth": 0,
             "ticks": ""
            },
            "colorscale": [
             [
              0,
              "#0d0887"
             ],
             [
              0.1111111111111111,
              "#46039f"
             ],
             [
              0.2222222222222222,
              "#7201a8"
             ],
             [
              0.3333333333333333,
              "#9c179e"
             ],
             [
              0.4444444444444444,
              "#bd3786"
             ],
             [
              0.5555555555555556,
              "#d8576b"
             ],
             [
              0.6666666666666666,
              "#ed7953"
             ],
             [
              0.7777777777777778,
              "#fb9f3a"
             ],
             [
              0.8888888888888888,
              "#fdca26"
             ],
             [
              1,
              "#f0f921"
             ]
            ],
            "type": "surface"
           }
          ],
          "table": [
           {
            "cells": {
             "fill": {
              "color": "#506784"
             },
             "line": {
              "color": "rgb(17,17,17)"
             }
            },
            "header": {
             "fill": {
              "color": "#2a3f5f"
             },
             "line": {
              "color": "rgb(17,17,17)"
             }
            },
            "type": "table"
           }
          ]
         },
         "layout": {
          "annotationdefaults": {
           "arrowcolor": "#f2f5fa",
           "arrowhead": 0,
           "arrowwidth": 1
          },
          "autotypenumbers": "strict",
          "coloraxis": {
           "colorbar": {
            "outlinewidth": 0,
            "ticks": ""
           }
          },
          "colorscale": {
           "diverging": [
            [
             0,
             "#8e0152"
            ],
            [
             0.1,
             "#c51b7d"
            ],
            [
             0.2,
             "#de77ae"
            ],
            [
             0.3,
             "#f1b6da"
            ],
            [
             0.4,
             "#fde0ef"
            ],
            [
             0.5,
             "#f7f7f7"
            ],
            [
             0.6,
             "#e6f5d0"
            ],
            [
             0.7,
             "#b8e186"
            ],
            [
             0.8,
             "#7fbc41"
            ],
            [
             0.9,
             "#4d9221"
            ],
            [
             1,
             "#276419"
            ]
           ],
           "sequential": [
            [
             0,
             "#0d0887"
            ],
            [
             0.1111111111111111,
             "#46039f"
            ],
            [
             0.2222222222222222,
             "#7201a8"
            ],
            [
             0.3333333333333333,
             "#9c179e"
            ],
            [
             0.4444444444444444,
             "#bd3786"
            ],
            [
             0.5555555555555556,
             "#d8576b"
            ],
            [
             0.6666666666666666,
             "#ed7953"
            ],
            [
             0.7777777777777778,
             "#fb9f3a"
            ],
            [
             0.8888888888888888,
             "#fdca26"
            ],
            [
             1,
             "#f0f921"
            ]
           ],
           "sequentialminus": [
            [
             0,
             "#0d0887"
            ],
            [
             0.1111111111111111,
             "#46039f"
            ],
            [
             0.2222222222222222,
             "#7201a8"
            ],
            [
             0.3333333333333333,
             "#9c179e"
            ],
            [
             0.4444444444444444,
             "#bd3786"
            ],
            [
             0.5555555555555556,
             "#d8576b"
            ],
            [
             0.6666666666666666,
             "#ed7953"
            ],
            [
             0.7777777777777778,
             "#fb9f3a"
            ],
            [
             0.8888888888888888,
             "#fdca26"
            ],
            [
             1,
             "#f0f921"
            ]
           ]
          },
          "colorway": [
           "#636efa",
           "#EF553B",
           "#00cc96",
           "#ab63fa",
           "#FFA15A",
           "#19d3f3",
           "#FF6692",
           "#B6E880",
           "#FF97FF",
           "#FECB52"
          ],
          "font": {
           "color": "#f2f5fa"
          },
          "geo": {
           "bgcolor": "rgb(17,17,17)",
           "lakecolor": "rgb(17,17,17)",
           "landcolor": "rgb(17,17,17)",
           "showlakes": true,
           "showland": true,
           "subunitcolor": "#506784"
          },
          "hoverlabel": {
           "align": "left"
          },
          "hovermode": "closest",
          "mapbox": {
           "style": "dark"
          },
          "paper_bgcolor": "rgb(17,17,17)",
          "plot_bgcolor": "rgb(17,17,17)",
          "polar": {
           "angularaxis": {
            "gridcolor": "#506784",
            "linecolor": "#506784",
            "ticks": ""
           },
           "bgcolor": "rgb(17,17,17)",
           "radialaxis": {
            "gridcolor": "#506784",
            "linecolor": "#506784",
            "ticks": ""
           }
          },
          "scene": {
           "xaxis": {
            "backgroundcolor": "rgb(17,17,17)",
            "gridcolor": "#506784",
            "gridwidth": 2,
            "linecolor": "#506784",
            "showbackground": true,
            "ticks": "",
            "zerolinecolor": "#C8D4E3"
           },
           "yaxis": {
            "backgroundcolor": "rgb(17,17,17)",
            "gridcolor": "#506784",
            "gridwidth": 2,
            "linecolor": "#506784",
            "showbackground": true,
            "ticks": "",
            "zerolinecolor": "#C8D4E3"
           },
           "zaxis": {
            "backgroundcolor": "rgb(17,17,17)",
            "gridcolor": "#506784",
            "gridwidth": 2,
            "linecolor": "#506784",
            "showbackground": true,
            "ticks": "",
            "zerolinecolor": "#C8D4E3"
           }
          },
          "shapedefaults": {
           "line": {
            "color": "#f2f5fa"
           }
          },
          "sliderdefaults": {
           "bgcolor": "#C8D4E3",
           "bordercolor": "rgb(17,17,17)",
           "borderwidth": 1,
           "tickwidth": 0
          },
          "ternary": {
           "aaxis": {
            "gridcolor": "#506784",
            "linecolor": "#506784",
            "ticks": ""
           },
           "baxis": {
            "gridcolor": "#506784",
            "linecolor": "#506784",
            "ticks": ""
           },
           "bgcolor": "rgb(17,17,17)",
           "caxis": {
            "gridcolor": "#506784",
            "linecolor": "#506784",
            "ticks": ""
           }
          },
          "title": {
           "x": 0.05
          },
          "updatemenudefaults": {
           "bgcolor": "#506784",
           "borderwidth": 0
          },
          "xaxis": {
           "automargin": true,
           "gridcolor": "#283442",
           "linecolor": "#506784",
           "ticks": "",
           "title": {
            "standoff": 15
           },
           "zerolinecolor": "#283442",
           "zerolinewidth": 2
          },
          "yaxis": {
           "automargin": true,
           "gridcolor": "#283442",
           "linecolor": "#506784",
           "ticks": "",
           "title": {
            "standoff": 15
           },
           "zerolinecolor": "#283442",
           "zerolinewidth": 2
          }
         }
        },
        "title": {
         "text": "Proporción de géneros"
        },
        "width": 800
       }
      }
     },
     "metadata": {},
     "output_type": "display_data"
    }
   ],
   "source": [
    "generos = df['gender'].value_counts().reset_index()\n",
    "fig = px.pie(generos, values='count', names='gender', \n",
    "             title = 'Proporción de géneros', \n",
    "             labels={'gender':'Género','count':'Cantidad'}, \n",
    "             template= 'plotly_dark')\n",
    "fig.update_layout(width=800, height=600)\n",
    "fig.show()"
   ]
  },
  {
   "cell_type": "markdown",
   "metadata": {},
   "source": [
    "#### Cómo se distribuyen las especies"
   ]
  },
  {
   "cell_type": "code",
   "execution_count": 120,
   "metadata": {},
   "outputs": [
    {
     "data": {
      "application/vnd.plotly.v1+json": {
       "config": {
        "plotlyServerURL": "https://plot.ly"
       },
       "data": [
        {
         "branchvalues": "total",
         "domain": {
          "x": [
           0,
           1
          ],
          "y": [
           0,
           1
          ]
         },
         "hovertemplate": "Nombre=%{label}<br>Cantidad=%{value}<br>Especie=%{parent}<br>id=%{id}<extra></extra>",
         "ids": [
          "Human/26 Years Old Morty",
          "Human/40 Years Old Morty",
          "Human/7+7 Years Old Morty",
          "Animal/80's snake",
          "Alien/Abadango Cluster Princess",
          "Human/Abradolf Lincler",
          "Animal/Accountant dog",
          "Humanoid/Adam",
          "Humanoid/Adam's Mother",
          "Human/Adjudicator Rick",
          "Human/Agency Director",
          "Human/Air Tina-Teer",
          "Human/Alan Rails",
          "Human/Albert Einstein",
          "Human/Alexander",
          "Alien/Alien Crow",
          "Alien/Alien Googah",
          "Alien/Alien Mexican Armada",
          "Alien/Alien Morty",
          "Alien/Alien Rick",
          "Alien/Alien Spa Employee",
          "Alien/Alyson Hannigan",
          "Human/Amazing Johnathan",
          "Alien/Amish Cyborg",
          "Poopybutthole/Amy Poopybutthole",
          "Alien/Anchor Gear",
          "Human/Anchorman",
          "Human/Anchorwoman",
          "Animal/Anchosnake",
          "Human/Andy",
          "Human/Angie Flint",
          "Alien/Angry Glorzo",
          "Human/Annie",
          "Human/Antenna Morty",
          "Human/Antenna Rick",
          "Human/Ants in my Eyes Johnson",
          "Humanoid/Aqua Morty",
          "Humanoid/Aqua Rick",
          "Alien/Arbolian Mentirososian",
          "Alien/Arcade Alien",
          "Alien/Armagheadon",
          "unknown/Armothy",
          "Alien/Arthricia",
          "Human/Artist Morty",
          "Human/Attila Starwar",
          "Human/Baby Legs",
          "Human/Baby Legs Chief",
          "Human/Baby Mouse Skin Morty",
          "Poopybutthole/Baby Poopybutthole",
          "Human/Baby Rick",
          "Alien/Baby Wizard",
          "Human/Bald Rick",
          "Mythological Creature/Balthromaw",
          "Human/Bar Customer",
          "Human/Bartender",
          "Human/Bartender Morty",
          "Human/Bearded Jerry",
          "Alien/Bearded Lady",
          "Human/Bearded Morty",
          "Alien/Beebo",
          "Poopybutthole/Benjamin",
          "Alien/Bepisian",
          "Alien/Beta-Seven",
          "Human/Beth Sanchez",
          "Human/Beth Smith",
          "Mythological Creature/Beth's Mytholog",
          "Animal/Biblesaurus",
          "Mythological Creature/Big Boobed Waitress",
          "Human/Big Fat rick",
          "Human/Big Head Morty",
          "Human/Big Morty",
          "Animal/Bill",
          "Human/Bill",
          "Alien/Birdperson",
          "Humanoid/Birdperson & Tammy's Child",
          "Human/Black Rick",
          "Alien/Blamph",
          "Human/Blazen",
          "Alien/Blim Blam",
          "Alien/Blue Diplomat",
          "Human/Blue Footprint Guy",
          "Human/Blue Shirt Morty",
          "Human/Bobby Moynihan",
          "Human/Body Guard Morty",
          "unknown/Boglin",
          "Alien/Boobloosian",
          "Human/Bootleg Portal Chemist Rick",
          "Alien/Borpocian",
          "Humanoid/Bova",
          "Human/Brad",
          "Human/Brad Anderson",
          "Alien/Bruce",
          "Human/Bruce Chutback",
          "Disease/Bubonic Plague",
          "Human/Bully",
          "Robot/Butter Robot",
          "Alien/Butthole Ice Cream Guy",
          "Animal/CHUD King",
          "Human/Calypso",
          "Human/Campaign Manager Morty",
          "Alien/Canklanker Thom",
          "Animal/Caterpillar Mr. Goldenfold",
          "Animal/Caterpillar Mr. Goldenfold’s Larvae",
          "Alien/Cats Fan",
          "Animal/Cavesnake",
          "Human/Celebrity Jerry",
          "Mythological Creature/Cenobite",
          "Mythological Creature/Centaur",
          "Alien/Chachi",
          "Humanoid/Chair-homeless",
          "Humanoid/Chair-person",
          "Humanoid/Chair-waiter",
          "Human/Chang",
          "Robot/Changeformer",
          "Alien/Chris",
          "Humanoid/Chris",
          "Alien/Christmas Storyteller",
          "Human/Cirque du Soleil Zumanity Member",
          "Mythological Creature/Coach Feratu (Balik Alistane)",
          "Mythological Creature/Coat Rack Head",
          "Alien/Collector",
          "Human/Colonial Rick",
          "Human/Colossus",
          "Human/Commander Rick",
          "Human/Communication's Responsible Rick",
          "Humanoid/Concerto",
          "Robot/Conroy",
          "Human/Cookies Guy",
          "Human/Cool Rick",
          "Human/Coop",
          "Human/Cop Morty",
          "Human/Cop Rick",
          "Humanoid/Corn detective",
          "Alien/Cornvelious Daniel",
          "Alien/Council of Glorzos Member",
          "Alien/Courier Flap",
          "Alien/Cousin Nicky",
          "Human/Cowboy Morty",
          "Human/Cowboy Rick",
          "Alien/Crab Spider",
          "Human/Creepy Little Girl",
          "Animal/Crocubot",
          "Cronenberg/Cronenberg Morty",
          "Cronenberg/Cronenberg Rick",
          "unknown/Crossy",
          "Robot/Crow Horse",
          "Humanoid/Crow Scare",
          "Alien/Crystal Dealer",
          "Alien/Crystal Dealers Boss",
          "Alien/Crystal Poacher",
          "Human/Cult Leader Morty",
          "Humanoid/Cyclops Morty",
          "Humanoid/Cyclops Rick",
          "Alien/Cynthia",
          "Human/Cynthia",
          "Mythological Creature/Dale",
          "Human/Dancer Cowboy Morty",
          "Human/Dancer Morty",
          "Human/Danny Publitz",
          "Alien/Daphne",
          "Alien/Daron Jefferson",
          "Poopybutthole/Darth Poopybutthole",
          "Human/David Letterman",
          "Cronenberg/Davin",
          "Human/Davin",
          "Mythological Creature/Debrah",
          "Mythological Creature/Debrah’s Partner",
          "Human/Defiance Beth",
          "Alien/Defiance Doctor",
          "Alien/Defiance Squanchette",
          "Humanoid/Deformed Morty",
          "Robot/Deliverance",
          "Mythological Creature/Diablo Verde",
          "Human/Diane Sanchez",
          "Animal/Diesel Weasel",
          "Human/Dipper and Mabel Mortys",
          "Robot/Donna Gueterman",
          "Human/Doofus Rick",
          "Alien/Doom-Nomitron",
          "Animal/Doopidoo",
          "Humanoid/Double Microwawe",
          "Human/Dr. Eleanor Arroway",
          "Alien/Dr. Glip-Glop",
          "Human/Dr. Schmidt",
          "Human/Dr. Wong",
          "Humanoid/Dr. Xenon Bloom",
          "Mythological Creature/Dracula",
          "Alien/Duck With Muscles",
          "Human/Dwayne",
          "Disease/E. Coli",
          "Human/Eddie",
          "Human/Eli",
          "Human/Eli's Girlfriend",
          "Human/Elon Tusk",
          "Human/Eric McMan",
          "Human/Eric Stoltz Mask Morty",
          "Human/Ethan",
          "Human/Evil Beth Clone",
          "Human/Evil Jerry Clone",
          "Human/Evil Morty",
          "Humanoid/Evil Rick",
          "Human/Evil Summer Clone",
          "Humanoid/Evolved Narnian",
          "Humanoid/Evolved Narnian Disguised as Morty",
          "Alien/Eyehole Man",
          "Alien/Fart",
          "Human/Fascist Morty",
          "Human/Fascist Mr. President",
          "Human/Fascist Rick",
          "Human/Fascist Rick’s Clone",
          "Animal/Fascist Shrimp Morty",
          "Animal/Fascist Shrimp Rick",
          "Animal/Fascist Shrimp Rick’s Clone",
          "Animal/Fascist Shrimp SS",
          "Animal/Fascist Teddy Bear Rick",
          "Animal/Fascist Teddy Bear Rick’s Clone",
          "Human/Fat Morty",
          "Human/Father Bob",
          "Animal/Female Scorpion",
          "Alien/Ferkusian",
          "Animal/Fido",
          "Alien/Flansian",
          "Alien/Fleeb",
          "Human/Floaty Bloody Man",
          "Human/Floaty Bloody Man’s Daughter",
          "Alien/Floaty Non-Gasm Brotherhood Member",
          "Alien/Floaty Non-Gasm Brotherhood Member Friend",
          "Humanoid/Florflock",
          "Human/Flower Morty",
          "Humanoid/Foal Sanchez",
          "Human/Frank Palicky",
          "Alien/Frankenstein's Monster",
          "Humanoid/Franklin D. Roosevelt",
          "Human/Fulgora",
          "Human/Funny Songs Presenter",
          "unknown/Gaia",
          "Alien/Galactic Federation President",
          "Alien/Gar Gloonch",
          "Mythological Creature/Gar's Mytholog",
          "Alien/Garblovian",
          "Alien/Garmanarnar",
          "Human/Garment District Rick",
          "Alien/Gazorpazorpfield",
          "Alien/Gear Cop",
          "Human/Gene",
          "Human/General Nathan",
          "Alien/General Store Owner",
          "Human/Genital Washer",
          "Alien/Ghost in a Jar",
          "Robot/Giant Assassin Hidden in the Statue of Liberty",
          "Animal/Giant Cat Monster",
          "Mythological Creature/Giant Judge",
          "Alien/Giant Testicle Monster",
          "Alien/Gibble Snake",
          "Alien/Glar",
          "Human/Glasses Morty",
          "Alien/Glenn",
          "Human/Glenn",
          "Alien/Glexo Slim Slom",
          "Robot/Glockenspiel Beth",
          "Robot/Glockenspiel Jerry",
          "Robot/Glockenspiel Morty",
          "Robot/Glockenspiel Rick",
          "Robot/Glockenspiel Summer",
          "Alien/Glootie",
          "Alien/Gobo",
          "Mythological Creature/Goddess Beth",
          "Disease/Gonorrhea",
          "Alien/Goomby",
          "Human/Gordon Lunas",
          "Robot/Gotron",
          "Human/Gotron Pilot",
          "Alien/Gramuflackian Anchorman",
          "Alien/Gramuflackian General",
          "Human/Greasy Grandma",
          "Alien/Greebybobe",
          "Robot/Gun Brain Rick",
          "Human/Guy from The Bachelor",
          "Robot/Gwendolyn",
          "Human/Hairdresser Rick",
          "Alien/Hairspray Fan",
          "Humanoid/Hammerhead Morty",
          "Animal/Hamster In Butt",
          "Alien/Hamurai",
          "Cronenberg/Harold",
          "Alien/Harold (Garbage Goober)",
          "Alien/Harold's Wife",
          "Alien/Heist-Con Receptionist",
          "Robot/Heistotron",
          "Human/Hemorrhage",
          "Disease/Hepatitis A",
          "Disease/Hepatitis C",
          "Mythological Creature/Hephaestus",
          "Human/Heroine Keith",
          "Human/High Pilot",
          "unknown/Hole in the Wall Where the Men Can See it All",
          "Humanoid/Hologram Rick",
          "Alien/Hookah Alien",
          "Humanoid/Hoovy",
          "Human/Hothead Rick",
          "Human/Hunter",
          "Human/Hunter's Father",
          "Alien/Hydrogen-F",
          "Alien/Ice-T",
          "Mythological Creature/Ideal Jerry",
          "Human/Impervious to Acid SWAT Officer",
          "Human/Insurance Rick",
          "Human/Investigator Rick",
          "Human/Invisi-trooper",
          "Animal/Izzy",
          "Human/Jackey",
          "Alien/Jackie",
          "Human/Jacob",
          "Human/Jacqueline",
          "Human/Jaguar",
          "Human/Jamey",
          "Human/Jan-Michael Vincent",
          "Humanoid/Japheth",
          "Humanoid/Japheth's Eldest Son",
          "Humanoid/Japheth's Grandson",
          "Humanoid/Japheth's Middle Son",
          "Humanoid/Japheth's Youngest Son",
          "Human/Jeff",
          "Human/Jerry 5-126",
          "Human/Jerry Smith",
          "Mythological Creature/Jerry's Mytholog",
          "Alien/Jerryboree Keeper",
          "Alien/Jerryboree Receptionist",
          "Cronenberg/Jessica",
          "Human/Jessica",
          "Human/Jessica's Friend",
          "Human/Jesus Christ",
          "Human/Jim",
          "Human/Johnny Carson",
          "Human/Johnny Depp",
          "Alien/Jon",
          "Human/Joseph Eli Lipkip",
          "Human/Josh",
          "Human/Josh's Sister",
          "Human/Josiah",
          "Human/Journalist Rick",
          "Human/Joyce Smith",
          "Human/Judge",
          "Human/Juggling Rick",
          "Alien/Karen Entity",
          "Human/Katarina",
          "Human/Kathy Ireland",
          "Alien/Keara",
          "Alien/Kevin",
          "Alien/Key Catcher",
          "Alien/King Flippy Nips",
          "Mythological Creature/King Jellybean",
          "Humanoid/Kirkland Brand Mr. Meeseeks",
          "Alien/Kozbian",
          "Human/Kristen Stewart",
          "Alien/Krombopulos Michael",
          "Humanoid/Kyle",
          "Humanoid/Lady Katana",
          "Alien/Larva Alien",
          "Human/Lawyer Morty",
          "unknown/Leah",
          "Human/Leonard Smith",
          "Alien/Lighthouse Keeper",
          "Alien/Lil B",
          "Alien/Lisa",
          "Humanoid/Little Dipper",
          "Robot/Little Voltron",
          "Alien/Lizard",
          "Humanoid/Lizard Morty",
          "Alien/Loggins",
          "Human/Logic",
          "Human/Long Hair Rick",
          "Human/Long Sleeved Morty",
          "Human/Lucy",
          "Human/MC Haps",
          "Alien/Ma-Sha",
          "Human/Maggie",
          "Alien/Magma-Q",
          "Alien/Magnesium-J",
          "Human/Man Painted Silver Who Makes Robot Noises",
          "Human/Marcus",
          "Animal/Martínez",
          "Human/Marvin",
          "Human/Mary-Lou",
          "Human/Maximums Rickimus",
          "Robot/Mechanical Morty",
          "Robot/Mechanical Rick",
          "Robot/Mechanical Summer",
          "Human/Mega Fruit Farmer Rick",
          "Mythological Creature/Melissa",
          "Alien/Memory Geardude",
          "Human/Memory Rick",
          "Alien/Memory Squanchy",
          "Human/Memory Tammy",
          "Robot/Metal Rick",
          "Humanoid/Metaphor for Capitalism",
          "Human/Michael",
          "Mythological Creature/Michael",
          "Human/Michael Denny and the Denny Singers",
          "Humanoid/Michael Jackson",
          "Human/Michael Jenkins",
          "Human/Michael McLick",
          "Humanoid/Michael Thompson",
          "Human/Michael's Lawyer",
          "Human/Mike Johnson",
          "Alien/Miles Knightly",
          "Animal/Million Ants",
          "Human/Mitch",
          "Human/Modern Rick",
          "Human/Mohawk Guy",
          "Alien/Monitor Lord",
          "Alien/Monogatron Leader",
          "Alien/Monogatron Queen",
          "Alien/Morglutzian",
          "Alien/Morphizer-XE Customer Support",
          "Human/Morty Jr's interviewer",
          "Humanoid/Morty Jr.",
          "Human/Morty K-22",
          "Human/Morty Mart Manager Morty",
          "Human/Morty Rick",
          "Human/Morty Smith",
          "Human/Mortytown Loco",
          "Human/Morty’s Disguise",
          "Human/Morty’s Father-in-law",
          "Human/Morty’s Girlfriend",
          "Human/Morty’s Lawyer",
          "Human/Morty’s Mother-in-law",
          "Alien/Mothership Intern",
          "Human/Mountain Sweat Jerry",
          "Mythological Creature/Mousetrap Nipples",
          "Poopybutthole/Mr. Always Wants to be Hunted",
          "Alien/Mr. Beauregard",
          "Human/Mr. Benson",
          "Mythological Creature/Mr. Booby Buyer",
          "unknown/Mr. Celery & Friends",
          "Alien/Mr. Cookie President",
          "Cronenberg/Mr. Goldenfold",
          "Human/Mr. Goldenfold",
          "Human/Mr. Marklovitz",
          "Humanoid/Mr. Meeseeks",
          "Humanoid/Mr. Needful",
          "Mythological Creature/Mr. Nimbus",
          "Animal/Mr. Nimbus Secretary",
          "Animal/Mr. Nimbus' Squid",
          "Poopybutthole/Mr. Poopybutthole",
          "Human/Mr. Sneezy",
          "Human/Mrs. Lipkip",
          "Human/Mrs. Pancakes",
          "Alien/Mrs. Refrigerator",
          "Human/Mrs. Sanchez",
          "Human/Mrs. Sullivan",
          "Human/Mrs. Sullivan's Boyfriend",
          "Human/Muscular Mannie",
          "Alien/Musical Fan",
          "Human/Nancy",
          "Alien/Nano Doctor",
          "Humanoid/Naruto Smith",
          "Alien/Native Alien",
          "Human/Netflix Executive",
          "Alien/New Improved Galactic Federation Guard",
          "Human/Nick",
          "Poopybutthole/Noob-Noob",
          "Alien/Numbericon",
          "Humanoid/Octopus Man",
          "Alien/Old Glorzo",
          "Human/Old Women",
          "Human/Orthodox Jew",
          "Human/P-Coat Rick",
          "Human/PC Basketball Player",
          "Alien/Palicki",
          "Human/Party Rick",
          "Robot/Pat Gueterman",
          "Human/Paul Fleishman",
          "Alien/Pawnshop Clerk",
          "Alien/Pencilvester",
          "Human/Pet Shop Employee",
          "Alien/Phantom of the Opera Fan",
          "Human/Phillip Jacobs",
          "Alien/Phoenixperson",
          "Humanoid/Phone-person",
          "Robot/Photography Cyborg",
          "Alien/Photography Raptor",
          "Alien/Pibbles Bodyguard",
          "Humanoid/Pichael Thompson",
          "unknown/Pickle Rick",
          "unknown/Piece of Toast",
          "Alien/Pilgrim Alien",
          "Human/Pink Polo Shirt Jerry",
          "Humanoid/Pizza-person",
          "Human/Plane Crash Survivor",
          "Humanoid/Planetina",
          "Human/Planetina Buyer",
          "Human/Plumber Rick",
          "Alien/Plutonian Host",
          "Alien/Plutonian Hostess",
          "Human/Poncho",
          "Human/President Curtis",
          "Humanoid/President Turkey",
          "Human/President's General",
          "Humanoid/Presidentress of The Mega Gargantuans",
          "Human/Priest Witherspoon",
          "Alien/Prince Nebulon",
          "Animal/Princess Ponietta",
          "Cronenberg/Principal Vagina",
          "Human/Principal Vagina",
          "Alien/Pripudlian",
          "Human/Private Sector Rick",
          "Human/Private Smith",
          "Human/Pro trunk people marriage guy",
          "Human/Professor Sanchez",
          "Human/Professor Shabooboo",
          "Human/Public Opinion Judge",
          "Human/Punk Rick",
          "Alien/Purge Planet Ruler",
          "Alien/Purple Morty",
          "Animal/Pussifer",
          "Human/Quantum Rick",
          "Human/Quick Mystery Presenter",
          "Human/Ramamama Lord",
          "Robot/Randotron",
          "Human/Randy Dicknose",
          "Animal/Rat Boss",
          "Human/Re-Build-a-Morty Morty",
          "Human/Real Fake Doors Salesman",
          "Human/Redhead Morty",
          "Human/Redhead Rick",
          "Mythological Creature/Reggie",
          "Human/Regional Manager Rick",
          "Human/Regular Legs",
          "Human/Regular Tyrion Lannister",
          "Human/Retired General Rick",
          "Alien/Reverse Giraffe",
          "Human/Reverse Rick Outrage",
          "Alien/Revolio Clockberg Jr.",
          "Human/Ricardo Montoya",
          "Alien/Rich Plutonian",
          "Human/Richard",
          "Human/Rick D-99",
          "Human/Rick D. Sanchez III",
          "Human/Rick D716",
          "Human/Rick D716-B",
          "Human/Rick D716-C",
          "Human/Rick Guilt Rick",
          "Human/Rick J-22",
          "Human/Rick K-22",
          "Human/Rick Prime",
          "Human/Rick Sanchez",
          "Robot/Rick's Garage",
          "Human/Ricktiminus Sancheziminius",
          "Human/Rick’s Disguise",
          "Human/Riq IV",
          "Alien/Risotto Groupon",
          "Alien/Risotto's Tentacled Henchman",
          "Robot/Robot Morty",
          "Robot/Robot Rick",
          "Robot/Robot Snake",
          "Human/Roger",
          "Alien/Ron Benson",
          "Human/Roy",
          "Human/Roy's Mum",
          "Human/Roy's Son",
          "Human/Roy's Wife",
          "Human/Ruben",
          "Human/Running Bird",
          "Human/Ruth Bader Ginsburg",
          "Human/SEAL Team Rick",
          "Human/SWAT Officer",
          "Alien/Samansky",
          "Human/Samantha",
          "Alien/Sarge",
          "Human/Sarge",
          "Human/Scar Rick",
          "Robot/Scarecrow Beth",
          "Robot/Scarecrow Jerry",
          "Robot/Scarecrow Morty",
          "Robot/Scarecrow Rick",
          "Robot/Scarecrow Summer",
          "Mythological Creature/Scary Brandon",
          "Mythological Creature/Scary Glenn",
          "Mythological Creature/Scary Teacher",
          "Mythological Creature/Scary Terry",
          "Alien/Scroopy Noopers",
          "Alien/Scropon",
          "Animal/Scrotian",
          "Human/Secret Service Rick",
          "Animal/Secret Service Snake",
          "Alien/Secretary at Tony's",
          "Human/Secretary of the Interior",
          "Mythological Creature/Self-Congratulatory Jerry",
          "Mythological Creature/Shadow Jacker",
          "Alien/Shane",
          "Human/Shaved Head Jerry",
          "Human/Sheik Rick",
          "Alien/Shimshamian",
          "Alien/Shlaammi",
          "unknown/Shleemypants",
          "Human/Shmlamantha Shmlicelli",
          "Human/Shmlangela Shmlobinson-Shmlower",
          "Human/Shmlona Shmlobinson",
          "Human/Shmlonathan Shmlower",
          "Human/Shmlony Shmlicelli",
          "Alien/Shmooglite Runner",
          "Alien/Shnoopy Bloopers",
          "Alien/Shrek The Musical Fan",
          "Alien/Shrimply Pibbles",
          "Human/Simon",
          "Human/Simple Rick",
          "Alien/Slartivartian",
          "Human/Slaveowner",
          "Alien/Sleepy Gary",
          "Human/Slick Morty",
          "Mythological Creature/Slippery Stair",
          "Animal/Slippy",
          "Humanoid/Slow Mobius",
          "Human/Slow Rick",
          "Mythological Creature/Slut Dragon",
          "Alien/Snake Arms",
          "Animal/Snake Hitler",
          "Animal/Snake Lincoln",
          "Animal/Snake Linguist",
          "Animal/Snake Reporter",
          "Robot/Snake Resistance Robot",
          "Animal/Snake Soldier",
          "Robot/Snake Terminator",
          "Animal/Snake with Legs",
          "Animal/Snuffles",
          "Animal/Snuffles (Snowball)",
          "Human/Solicitor Rick",
          "Human/Sonia Sotomayor",
          "Robot/Space Cruiser",
          "Human/Spaceman",
          "unknown/Sperm Queen",
          "Animal/Spiderweb teddy bear",
          "Alien/Squanchy",
          "Humanoid/Squeeb",
          "Robot/Squid Costume Beth",
          "Robot/Squid Costume Jerry",
          "Robot/Squid Costume Morty",
          "Robot/Squid Costume Rick",
          "Robot/Squid Costume Summer",
          "Alien/St. Gloopy Noops Nurse",
          "Human/Stacy",
          "Mythological Creature/Stair Goblin",
          "Human/Stan Lee Rick",
          "Poopybutthole/Stealy",
          "Alien/Steve",
          "Human/Steve",
          "Human/Steve Jobs Rick",
          "Alien/Steven Phillips",
          "unknown/Sticky",
          "Human/Storylord",
          "Alien/Stu",
          "Human/Summer Smith",
          "Humanoid/Super Turkey",
          "Human/Super Weird Rick",
          "Human/Supernova",
          "Animal/Synthetic Laser Eels",
          "Human/Taddy Mason",
          "Human/Taint Washer",
          "Animal/Talking Cat",
          "Cronenberg/Tammy Guetermann",
          "Human/Tammy Guetermann",
          "Human/Tan Rick",
          "Human/Tank Top Jerry",
          "Human/Tax Attorney",
          "Human/Teacher Rick",
          "Human/Teleportation's Responsible Rick",
          "Human/Terry",
          "unknown/The Concept of Time",
          "Humanoid/The President of the Miniverse",
          "Human/The Scientist Formerly Known as Rick",
          "Alien/The Shapeshiftress",
          "Human/The Wizard",
          "Human/Thomas Lipkip",
          "Alien/Three Unknown Things",
          "Human/Tickets Please Guy",
          "Humanoid/Ticktock",
          "Alien/Tinkles",
          "Human/Tiny Rick",
          "Mythological Creature/Tiny-persons advocacy group lawyer",
          "Human/Toby Matthews",
          "Alien/Todd Crystal",
          "Human/Tom Randolph",
          "Human/Tommy's Clone",
          "Alien/Tony",
          "Human/Tony Galopagus",
          "Alien/Tony's Dad",
          "Alien/Tony’s Wife",
          "Robot/Too Cute to Murder Beth",
          "Robot/Too Cute to Murder Jerry",
          "Robot/Too Cute to Murder Morty",
          "Robot/Too Cute to Murder Rick",
          "Robot/Too Cute to Murder Summer",
          "Mythological Creature/Tophat Jones",
          "Human/Tortured Morty",
          "Humanoid/Toxic Morty",
          "Humanoid/Toxic Rick",
          "Alien/Traflorkian",
          "Alien/Traflorkian Journalist",
          "Human/Train Cop",
          "Human/Train Cops",
          "Human/Train Cops Instructor",
          "Alien/Trandor",
          "Humanoid/Tree Person",
          "Human/Tricia Lange",
          "Alien/Troy",
          "Mythological Creature/Truckula",
          "Humanoid/Trunk Man",
          "Humanoid/Trunk Morty",
          "Human/Trunkphobic guy",
          "Human/Trunkphobic suspenders guy",
          "Mythological Creature/Truth Tortoise",
          "Disease/Tuberculosis",
          "Alien/Tumblorkian",
          "Animal/Turkey Morty",
          "Animal/Turkey President Curtis",
          "Animal/Turkey Rick",
          "Alien/Tusked Assassin",
          "Human/Two Brothers",
          "Animal/Two Crows",
          "Human/Two Guys with Handlebar Mustaches",
          "Alien/Uncle Nibbles",
          "Alien/Uncle Steve",
          "Alien/Unity",
          "Human/Unknown Rick",
          "Human/Unmuscular Michael",
          "Mythological Creature/Vampire Master",
          "Mythological Creature/Vampire Master's Assistant",
          "Human/Vance Maximus",
          "Alien/Varrix",
          "Humanoid/Ventriloquiver",
          "Alien/Vermigurber",
          "Alien/Veronica Ann Bennet",
          "Human/Veterinary",
          "Human/Veterinary Nurse",
          "Human/Visor Rick",
          "Alien/Voiceoverian",
          "Alien/Voltematron",
          "Humanoid/Wall Crawling Rick",
          "Humanoid/Warlock",
          "Animal/Wasp Beth",
          "Animal/Wasp Jerry",
          "Animal/Wasp Morty",
          "Animal/Wasp Rick",
          "Animal/Wasp Rick’s Clone",
          "Animal/Wasp Summer",
          "Human/Water Tina-Teer",
          "Alien/Wedding Bartender",
          "Mythological Creature/When Wolf",
          "Robot/Wicker Beth",
          "Robot/Wicker Morty",
          "Robot/Wicker Rick",
          "Robot/Wicker Summer",
          "Alien/Woman Rick",
          "Alien/Worldender",
          "Human/Wrap-it-up Little Rick",
          "Human/Xing Ho",
          "Alien/Yaarb",
          "Alien/Yellow Headed Doctor",
          "Human/Yellow Shirt Rick",
          "Human/Yo-yo Rick",
          "Human/Young Beth",
          "Human/Young Jerry",
          "Human/Young Memory Rick",
          "Alien/Zarbadar Gloonch",
          "Mythological Creature/Zarbadar's Mytholog",
          "Humanoid/Zeep Xanflorp",
          "Human/Zeta Alpha Rick",
          "Alien/Zick Zack",
          "Alien",
          "Animal",
          "Cronenberg",
          "Disease",
          "Human",
          "Humanoid",
          "Mythological Creature",
          "Poopybutthole",
          "Robot",
          "unknown"
         ],
         "labels": [
          "26 Years Old Morty",
          "40 Years Old Morty",
          "7+7 Years Old Morty",
          "80's snake",
          "Abadango Cluster Princess",
          "Abradolf Lincler",
          "Accountant dog",
          "Adam",
          "Adam's Mother",
          "Adjudicator Rick",
          "Agency Director",
          "Air Tina-Teer",
          "Alan Rails",
          "Albert Einstein",
          "Alexander",
          "Alien Crow",
          "Alien Googah",
          "Alien Mexican Armada",
          "Alien Morty",
          "Alien Rick",
          "Alien Spa Employee",
          "Alyson Hannigan",
          "Amazing Johnathan",
          "Amish Cyborg",
          "Amy Poopybutthole",
          "Anchor Gear",
          "Anchorman",
          "Anchorwoman",
          "Anchosnake",
          "Andy",
          "Angie Flint",
          "Angry Glorzo",
          "Annie",
          "Antenna Morty",
          "Antenna Rick",
          "Ants in my Eyes Johnson",
          "Aqua Morty",
          "Aqua Rick",
          "Arbolian Mentirososian",
          "Arcade Alien",
          "Armagheadon",
          "Armothy",
          "Arthricia",
          "Artist Morty",
          "Attila Starwar",
          "Baby Legs",
          "Baby Legs Chief",
          "Baby Mouse Skin Morty",
          "Baby Poopybutthole",
          "Baby Rick",
          "Baby Wizard",
          "Bald Rick",
          "Balthromaw",
          "Bar Customer",
          "Bartender",
          "Bartender Morty",
          "Bearded Jerry",
          "Bearded Lady",
          "Bearded Morty",
          "Beebo",
          "Benjamin",
          "Bepisian",
          "Beta-Seven",
          "Beth Sanchez",
          "Beth Smith",
          "Beth's Mytholog",
          "Biblesaurus",
          "Big Boobed Waitress",
          "Big Fat rick",
          "Big Head Morty",
          "Big Morty",
          "Bill",
          "Bill",
          "Birdperson",
          "Birdperson & Tammy's Child",
          "Black Rick",
          "Blamph",
          "Blazen",
          "Blim Blam",
          "Blue Diplomat",
          "Blue Footprint Guy",
          "Blue Shirt Morty",
          "Bobby Moynihan",
          "Body Guard Morty",
          "Boglin",
          "Boobloosian",
          "Bootleg Portal Chemist Rick",
          "Borpocian",
          "Bova",
          "Brad",
          "Brad Anderson",
          "Bruce",
          "Bruce Chutback",
          "Bubonic Plague",
          "Bully",
          "Butter Robot",
          "Butthole Ice Cream Guy",
          "CHUD King",
          "Calypso",
          "Campaign Manager Morty",
          "Canklanker Thom",
          "Caterpillar Mr. Goldenfold",
          "Caterpillar Mr. Goldenfold’s Larvae",
          "Cats Fan",
          "Cavesnake",
          "Celebrity Jerry",
          "Cenobite",
          "Centaur",
          "Chachi",
          "Chair-homeless",
          "Chair-person",
          "Chair-waiter",
          "Chang",
          "Changeformer",
          "Chris",
          "Chris",
          "Christmas Storyteller",
          "Cirque du Soleil Zumanity Member",
          "Coach Feratu (Balik Alistane)",
          "Coat Rack Head",
          "Collector",
          "Colonial Rick",
          "Colossus",
          "Commander Rick",
          "Communication's Responsible Rick",
          "Concerto",
          "Conroy",
          "Cookies Guy",
          "Cool Rick",
          "Coop",
          "Cop Morty",
          "Cop Rick",
          "Corn detective",
          "Cornvelious Daniel",
          "Council of Glorzos Member",
          "Courier Flap",
          "Cousin Nicky",
          "Cowboy Morty",
          "Cowboy Rick",
          "Crab Spider",
          "Creepy Little Girl",
          "Crocubot",
          "Cronenberg Morty",
          "Cronenberg Rick",
          "Crossy",
          "Crow Horse",
          "Crow Scare",
          "Crystal Dealer",
          "Crystal Dealers Boss",
          "Crystal Poacher",
          "Cult Leader Morty",
          "Cyclops Morty",
          "Cyclops Rick",
          "Cynthia",
          "Cynthia",
          "Dale",
          "Dancer Cowboy Morty",
          "Dancer Morty",
          "Danny Publitz",
          "Daphne",
          "Daron Jefferson",
          "Darth Poopybutthole",
          "David Letterman",
          "Davin",
          "Davin",
          "Debrah",
          "Debrah’s Partner",
          "Defiance Beth",
          "Defiance Doctor",
          "Defiance Squanchette",
          "Deformed Morty",
          "Deliverance",
          "Diablo Verde",
          "Diane Sanchez",
          "Diesel Weasel",
          "Dipper and Mabel Mortys",
          "Donna Gueterman",
          "Doofus Rick",
          "Doom-Nomitron",
          "Doopidoo",
          "Double Microwawe",
          "Dr. Eleanor Arroway",
          "Dr. Glip-Glop",
          "Dr. Schmidt",
          "Dr. Wong",
          "Dr. Xenon Bloom",
          "Dracula",
          "Duck With Muscles",
          "Dwayne",
          "E. Coli",
          "Eddie",
          "Eli",
          "Eli's Girlfriend",
          "Elon Tusk",
          "Eric McMan",
          "Eric Stoltz Mask Morty",
          "Ethan",
          "Evil Beth Clone",
          "Evil Jerry Clone",
          "Evil Morty",
          "Evil Rick",
          "Evil Summer Clone",
          "Evolved Narnian",
          "Evolved Narnian Disguised as Morty",
          "Eyehole Man",
          "Fart",
          "Fascist Morty",
          "Fascist Mr. President",
          "Fascist Rick",
          "Fascist Rick’s Clone",
          "Fascist Shrimp Morty",
          "Fascist Shrimp Rick",
          "Fascist Shrimp Rick’s Clone",
          "Fascist Shrimp SS",
          "Fascist Teddy Bear Rick",
          "Fascist Teddy Bear Rick’s Clone",
          "Fat Morty",
          "Father Bob",
          "Female Scorpion",
          "Ferkusian",
          "Fido",
          "Flansian",
          "Fleeb",
          "Floaty Bloody Man",
          "Floaty Bloody Man’s Daughter",
          "Floaty Non-Gasm Brotherhood Member",
          "Floaty Non-Gasm Brotherhood Member Friend",
          "Florflock",
          "Flower Morty",
          "Foal Sanchez",
          "Frank Palicky",
          "Frankenstein's Monster",
          "Franklin D. Roosevelt",
          "Fulgora",
          "Funny Songs Presenter",
          "Gaia",
          "Galactic Federation President",
          "Gar Gloonch",
          "Gar's Mytholog",
          "Garblovian",
          "Garmanarnar",
          "Garment District Rick",
          "Gazorpazorpfield",
          "Gear Cop",
          "Gene",
          "General Nathan",
          "General Store Owner",
          "Genital Washer",
          "Ghost in a Jar",
          "Giant Assassin Hidden in the Statue of Liberty",
          "Giant Cat Monster",
          "Giant Judge",
          "Giant Testicle Monster",
          "Gibble Snake",
          "Glar",
          "Glasses Morty",
          "Glenn",
          "Glenn",
          "Glexo Slim Slom",
          "Glockenspiel Beth",
          "Glockenspiel Jerry",
          "Glockenspiel Morty",
          "Glockenspiel Rick",
          "Glockenspiel Summer",
          "Glootie",
          "Gobo",
          "Goddess Beth",
          "Gonorrhea",
          "Goomby",
          "Gordon Lunas",
          "Gotron",
          "Gotron Pilot",
          "Gramuflackian Anchorman",
          "Gramuflackian General",
          "Greasy Grandma",
          "Greebybobe",
          "Gun Brain Rick",
          "Guy from The Bachelor",
          "Gwendolyn",
          "Hairdresser Rick",
          "Hairspray Fan",
          "Hammerhead Morty",
          "Hamster In Butt",
          "Hamurai",
          "Harold",
          "Harold (Garbage Goober)",
          "Harold's Wife",
          "Heist-Con Receptionist",
          "Heistotron",
          "Hemorrhage",
          "Hepatitis A",
          "Hepatitis C",
          "Hephaestus",
          "Heroine Keith",
          "High Pilot",
          "Hole in the Wall Where the Men Can See it All",
          "Hologram Rick",
          "Hookah Alien",
          "Hoovy",
          "Hothead Rick",
          "Hunter",
          "Hunter's Father",
          "Hydrogen-F",
          "Ice-T",
          "Ideal Jerry",
          "Impervious to Acid SWAT Officer",
          "Insurance Rick",
          "Investigator Rick",
          "Invisi-trooper",
          "Izzy",
          "Jackey",
          "Jackie",
          "Jacob",
          "Jacqueline",
          "Jaguar",
          "Jamey",
          "Jan-Michael Vincent",
          "Japheth",
          "Japheth's Eldest Son",
          "Japheth's Grandson",
          "Japheth's Middle Son",
          "Japheth's Youngest Son",
          "Jeff",
          "Jerry 5-126",
          "Jerry Smith",
          "Jerry's Mytholog",
          "Jerryboree Keeper",
          "Jerryboree Receptionist",
          "Jessica",
          "Jessica",
          "Jessica's Friend",
          "Jesus Christ",
          "Jim",
          "Johnny Carson",
          "Johnny Depp",
          "Jon",
          "Joseph Eli Lipkip",
          "Josh",
          "Josh's Sister",
          "Josiah",
          "Journalist Rick",
          "Joyce Smith",
          "Judge",
          "Juggling Rick",
          "Karen Entity",
          "Katarina",
          "Kathy Ireland",
          "Keara",
          "Kevin",
          "Key Catcher",
          "King Flippy Nips",
          "King Jellybean",
          "Kirkland Brand Mr. Meeseeks",
          "Kozbian",
          "Kristen Stewart",
          "Krombopulos Michael",
          "Kyle",
          "Lady Katana",
          "Larva Alien",
          "Lawyer Morty",
          "Leah",
          "Leonard Smith",
          "Lighthouse Keeper",
          "Lil B",
          "Lisa",
          "Little Dipper",
          "Little Voltron",
          "Lizard",
          "Lizard Morty",
          "Loggins",
          "Logic",
          "Long Hair Rick",
          "Long Sleeved Morty",
          "Lucy",
          "MC Haps",
          "Ma-Sha",
          "Maggie",
          "Magma-Q",
          "Magnesium-J",
          "Man Painted Silver Who Makes Robot Noises",
          "Marcus",
          "Martínez",
          "Marvin",
          "Mary-Lou",
          "Maximums Rickimus",
          "Mechanical Morty",
          "Mechanical Rick",
          "Mechanical Summer",
          "Mega Fruit Farmer Rick",
          "Melissa",
          "Memory Geardude",
          "Memory Rick",
          "Memory Squanchy",
          "Memory Tammy",
          "Metal Rick",
          "Metaphor for Capitalism",
          "Michael",
          "Michael",
          "Michael Denny and the Denny Singers",
          "Michael Jackson",
          "Michael Jenkins",
          "Michael McLick",
          "Michael Thompson",
          "Michael's Lawyer",
          "Mike Johnson",
          "Miles Knightly",
          "Million Ants",
          "Mitch",
          "Modern Rick",
          "Mohawk Guy",
          "Monitor Lord",
          "Monogatron Leader",
          "Monogatron Queen",
          "Morglutzian",
          "Morphizer-XE Customer Support",
          "Morty Jr's interviewer",
          "Morty Jr.",
          "Morty K-22",
          "Morty Mart Manager Morty",
          "Morty Rick",
          "Morty Smith",
          "Mortytown Loco",
          "Morty’s Disguise",
          "Morty’s Father-in-law",
          "Morty’s Girlfriend",
          "Morty’s Lawyer",
          "Morty’s Mother-in-law",
          "Mothership Intern",
          "Mountain Sweat Jerry",
          "Mousetrap Nipples",
          "Mr. Always Wants to be Hunted",
          "Mr. Beauregard",
          "Mr. Benson",
          "Mr. Booby Buyer",
          "Mr. Celery & Friends",
          "Mr. Cookie President",
          "Mr. Goldenfold",
          "Mr. Goldenfold",
          "Mr. Marklovitz",
          "Mr. Meeseeks",
          "Mr. Needful",
          "Mr. Nimbus",
          "Mr. Nimbus Secretary",
          "Mr. Nimbus' Squid",
          "Mr. Poopybutthole",
          "Mr. Sneezy",
          "Mrs. Lipkip",
          "Mrs. Pancakes",
          "Mrs. Refrigerator",
          "Mrs. Sanchez",
          "Mrs. Sullivan",
          "Mrs. Sullivan's Boyfriend",
          "Muscular Mannie",
          "Musical Fan",
          "Nancy",
          "Nano Doctor",
          "Naruto Smith",
          "Native Alien",
          "Netflix Executive",
          "New Improved Galactic Federation Guard",
          "Nick",
          "Noob-Noob",
          "Numbericon",
          "Octopus Man",
          "Old Glorzo",
          "Old Women",
          "Orthodox Jew",
          "P-Coat Rick",
          "PC Basketball Player",
          "Palicki",
          "Party Rick",
          "Pat Gueterman",
          "Paul Fleishman",
          "Pawnshop Clerk",
          "Pencilvester",
          "Pet Shop Employee",
          "Phantom of the Opera Fan",
          "Phillip Jacobs",
          "Phoenixperson",
          "Phone-person",
          "Photography Cyborg",
          "Photography Raptor",
          "Pibbles Bodyguard",
          "Pichael Thompson",
          "Pickle Rick",
          "Piece of Toast",
          "Pilgrim Alien",
          "Pink Polo Shirt Jerry",
          "Pizza-person",
          "Plane Crash Survivor",
          "Planetina",
          "Planetina Buyer",
          "Plumber Rick",
          "Plutonian Host",
          "Plutonian Hostess",
          "Poncho",
          "President Curtis",
          "President Turkey",
          "President's General",
          "Presidentress of The Mega Gargantuans",
          "Priest Witherspoon",
          "Prince Nebulon",
          "Princess Ponietta",
          "Principal Vagina",
          "Principal Vagina",
          "Pripudlian",
          "Private Sector Rick",
          "Private Smith",
          "Pro trunk people marriage guy",
          "Professor Sanchez",
          "Professor Shabooboo",
          "Public Opinion Judge",
          "Punk Rick",
          "Purge Planet Ruler",
          "Purple Morty",
          "Pussifer",
          "Quantum Rick",
          "Quick Mystery Presenter",
          "Ramamama Lord",
          "Randotron",
          "Randy Dicknose",
          "Rat Boss",
          "Re-Build-a-Morty Morty",
          "Real Fake Doors Salesman",
          "Redhead Morty",
          "Redhead Rick",
          "Reggie",
          "Regional Manager Rick",
          "Regular Legs",
          "Regular Tyrion Lannister",
          "Retired General Rick",
          "Reverse Giraffe",
          "Reverse Rick Outrage",
          "Revolio Clockberg Jr.",
          "Ricardo Montoya",
          "Rich Plutonian",
          "Richard",
          "Rick D-99",
          "Rick D. Sanchez III",
          "Rick D716",
          "Rick D716-B",
          "Rick D716-C",
          "Rick Guilt Rick",
          "Rick J-22",
          "Rick K-22",
          "Rick Prime",
          "Rick Sanchez",
          "Rick's Garage",
          "Ricktiminus Sancheziminius",
          "Rick’s Disguise",
          "Riq IV",
          "Risotto Groupon",
          "Risotto's Tentacled Henchman",
          "Robot Morty",
          "Robot Rick",
          "Robot Snake",
          "Roger",
          "Ron Benson",
          "Roy",
          "Roy's Mum",
          "Roy's Son",
          "Roy's Wife",
          "Ruben",
          "Running Bird",
          "Ruth Bader Ginsburg",
          "SEAL Team Rick",
          "SWAT Officer",
          "Samansky",
          "Samantha",
          "Sarge",
          "Sarge",
          "Scar Rick",
          "Scarecrow Beth",
          "Scarecrow Jerry",
          "Scarecrow Morty",
          "Scarecrow Rick",
          "Scarecrow Summer",
          "Scary Brandon",
          "Scary Glenn",
          "Scary Teacher",
          "Scary Terry",
          "Scroopy Noopers",
          "Scropon",
          "Scrotian",
          "Secret Service Rick",
          "Secret Service Snake",
          "Secretary at Tony's",
          "Secretary of the Interior",
          "Self-Congratulatory Jerry",
          "Shadow Jacker",
          "Shane",
          "Shaved Head Jerry",
          "Sheik Rick",
          "Shimshamian",
          "Shlaammi",
          "Shleemypants",
          "Shmlamantha Shmlicelli",
          "Shmlangela Shmlobinson-Shmlower",
          "Shmlona Shmlobinson",
          "Shmlonathan Shmlower",
          "Shmlony Shmlicelli",
          "Shmooglite Runner",
          "Shnoopy Bloopers",
          "Shrek The Musical Fan",
          "Shrimply Pibbles",
          "Simon",
          "Simple Rick",
          "Slartivartian",
          "Slaveowner",
          "Sleepy Gary",
          "Slick Morty",
          "Slippery Stair",
          "Slippy",
          "Slow Mobius",
          "Slow Rick",
          "Slut Dragon",
          "Snake Arms",
          "Snake Hitler",
          "Snake Lincoln",
          "Snake Linguist",
          "Snake Reporter",
          "Snake Resistance Robot",
          "Snake Soldier",
          "Snake Terminator",
          "Snake with Legs",
          "Snuffles",
          "Snuffles (Snowball)",
          "Solicitor Rick",
          "Sonia Sotomayor",
          "Space Cruiser",
          "Spaceman",
          "Sperm Queen",
          "Spiderweb teddy bear",
          "Squanchy",
          "Squeeb",
          "Squid Costume Beth",
          "Squid Costume Jerry",
          "Squid Costume Morty",
          "Squid Costume Rick",
          "Squid Costume Summer",
          "St. Gloopy Noops Nurse",
          "Stacy",
          "Stair Goblin",
          "Stan Lee Rick",
          "Stealy",
          "Steve",
          "Steve",
          "Steve Jobs Rick",
          "Steven Phillips",
          "Sticky",
          "Storylord",
          "Stu",
          "Summer Smith",
          "Super Turkey",
          "Super Weird Rick",
          "Supernova",
          "Synthetic Laser Eels",
          "Taddy Mason",
          "Taint Washer",
          "Talking Cat",
          "Tammy Guetermann",
          "Tammy Guetermann",
          "Tan Rick",
          "Tank Top Jerry",
          "Tax Attorney",
          "Teacher Rick",
          "Teleportation's Responsible Rick",
          "Terry",
          "The Concept of Time",
          "The President of the Miniverse",
          "The Scientist Formerly Known as Rick",
          "The Shapeshiftress",
          "The Wizard",
          "Thomas Lipkip",
          "Three Unknown Things",
          "Tickets Please Guy",
          "Ticktock",
          "Tinkles",
          "Tiny Rick",
          "Tiny-persons advocacy group lawyer",
          "Toby Matthews",
          "Todd Crystal",
          "Tom Randolph",
          "Tommy's Clone",
          "Tony",
          "Tony Galopagus",
          "Tony's Dad",
          "Tony’s Wife",
          "Too Cute to Murder Beth",
          "Too Cute to Murder Jerry",
          "Too Cute to Murder Morty",
          "Too Cute to Murder Rick",
          "Too Cute to Murder Summer",
          "Tophat Jones",
          "Tortured Morty",
          "Toxic Morty",
          "Toxic Rick",
          "Traflorkian",
          "Traflorkian Journalist",
          "Train Cop",
          "Train Cops",
          "Train Cops Instructor",
          "Trandor",
          "Tree Person",
          "Tricia Lange",
          "Troy",
          "Truckula",
          "Trunk Man",
          "Trunk Morty",
          "Trunkphobic guy",
          "Trunkphobic suspenders guy",
          "Truth Tortoise",
          "Tuberculosis",
          "Tumblorkian",
          "Turkey Morty",
          "Turkey President Curtis",
          "Turkey Rick",
          "Tusked Assassin",
          "Two Brothers",
          "Two Crows",
          "Two Guys with Handlebar Mustaches",
          "Uncle Nibbles",
          "Uncle Steve",
          "Unity",
          "Unknown Rick",
          "Unmuscular Michael",
          "Vampire Master",
          "Vampire Master's Assistant",
          "Vance Maximus",
          "Varrix",
          "Ventriloquiver",
          "Vermigurber",
          "Veronica Ann Bennet",
          "Veterinary",
          "Veterinary Nurse",
          "Visor Rick",
          "Voiceoverian",
          "Voltematron",
          "Wall Crawling Rick",
          "Warlock",
          "Wasp Beth",
          "Wasp Jerry",
          "Wasp Morty",
          "Wasp Rick",
          "Wasp Rick’s Clone",
          "Wasp Summer",
          "Water Tina-Teer",
          "Wedding Bartender",
          "When Wolf",
          "Wicker Beth",
          "Wicker Morty",
          "Wicker Rick",
          "Wicker Summer",
          "Woman Rick",
          "Worldender",
          "Wrap-it-up Little Rick",
          "Xing Ho",
          "Yaarb",
          "Yellow Headed Doctor",
          "Yellow Shirt Rick",
          "Yo-yo Rick",
          "Young Beth",
          "Young Jerry",
          "Young Memory Rick",
          "Zarbadar Gloonch",
          "Zarbadar's Mytholog",
          "Zeep Xanflorp",
          "Zeta Alpha Rick",
          "Zick Zack",
          "Alien",
          "Animal",
          "Cronenberg",
          "Disease",
          "Human",
          "Humanoid",
          "Mythological Creature",
          "Poopybutthole",
          "Robot",
          "unknown"
         ],
         "name": "",
         "parents": [
          "Human",
          "Human",
          "Human",
          "Animal",
          "Alien",
          "Human",
          "Animal",
          "Humanoid",
          "Humanoid",
          "Human",
          "Human",
          "Human",
          "Human",
          "Human",
          "Human",
          "Alien",
          "Alien",
          "Alien",
          "Alien",
          "Alien",
          "Alien",
          "Alien",
          "Human",
          "Alien",
          "Poopybutthole",
          "Alien",
          "Human",
          "Human",
          "Animal",
          "Human",
          "Human",
          "Alien",
          "Human",
          "Human",
          "Human",
          "Human",
          "Humanoid",
          "Humanoid",
          "Alien",
          "Alien",
          "Alien",
          "unknown",
          "Alien",
          "Human",
          "Human",
          "Human",
          "Human",
          "Human",
          "Poopybutthole",
          "Human",
          "Alien",
          "Human",
          "Mythological Creature",
          "Human",
          "Human",
          "Human",
          "Human",
          "Alien",
          "Human",
          "Alien",
          "Poopybutthole",
          "Alien",
          "Alien",
          "Human",
          "Human",
          "Mythological Creature",
          "Animal",
          "Mythological Creature",
          "Human",
          "Human",
          "Human",
          "Animal",
          "Human",
          "Alien",
          "Humanoid",
          "Human",
          "Alien",
          "Human",
          "Alien",
          "Alien",
          "Human",
          "Human",
          "Human",
          "Human",
          "unknown",
          "Alien",
          "Human",
          "Alien",
          "Humanoid",
          "Human",
          "Human",
          "Alien",
          "Human",
          "Disease",
          "Human",
          "Robot",
          "Alien",
          "Animal",
          "Human",
          "Human",
          "Alien",
          "Animal",
          "Animal",
          "Alien",
          "Animal",
          "Human",
          "Mythological Creature",
          "Mythological Creature",
          "Alien",
          "Humanoid",
          "Humanoid",
          "Humanoid",
          "Human",
          "Robot",
          "Alien",
          "Humanoid",
          "Alien",
          "Human",
          "Mythological Creature",
          "Mythological Creature",
          "Alien",
          "Human",
          "Human",
          "Human",
          "Human",
          "Humanoid",
          "Robot",
          "Human",
          "Human",
          "Human",
          "Human",
          "Human",
          "Humanoid",
          "Alien",
          "Alien",
          "Alien",
          "Alien",
          "Human",
          "Human",
          "Alien",
          "Human",
          "Animal",
          "Cronenberg",
          "Cronenberg",
          "unknown",
          "Robot",
          "Humanoid",
          "Alien",
          "Alien",
          "Alien",
          "Human",
          "Humanoid",
          "Humanoid",
          "Alien",
          "Human",
          "Mythological Creature",
          "Human",
          "Human",
          "Human",
          "Alien",
          "Alien",
          "Poopybutthole",
          "Human",
          "Cronenberg",
          "Human",
          "Mythological Creature",
          "Mythological Creature",
          "Human",
          "Alien",
          "Alien",
          "Humanoid",
          "Robot",
          "Mythological Creature",
          "Human",
          "Animal",
          "Human",
          "Robot",
          "Human",
          "Alien",
          "Animal",
          "Humanoid",
          "Human",
          "Alien",
          "Human",
          "Human",
          "Humanoid",
          "Mythological Creature",
          "Alien",
          "Human",
          "Disease",
          "Human",
          "Human",
          "Human",
          "Human",
          "Human",
          "Human",
          "Human",
          "Human",
          "Human",
          "Human",
          "Humanoid",
          "Human",
          "Humanoid",
          "Humanoid",
          "Alien",
          "Alien",
          "Human",
          "Human",
          "Human",
          "Human",
          "Animal",
          "Animal",
          "Animal",
          "Animal",
          "Animal",
          "Animal",
          "Human",
          "Human",
          "Animal",
          "Alien",
          "Animal",
          "Alien",
          "Alien",
          "Human",
          "Human",
          "Alien",
          "Alien",
          "Humanoid",
          "Human",
          "Humanoid",
          "Human",
          "Alien",
          "Humanoid",
          "Human",
          "Human",
          "unknown",
          "Alien",
          "Alien",
          "Mythological Creature",
          "Alien",
          "Alien",
          "Human",
          "Alien",
          "Alien",
          "Human",
          "Human",
          "Alien",
          "Human",
          "Alien",
          "Robot",
          "Animal",
          "Mythological Creature",
          "Alien",
          "Alien",
          "Alien",
          "Human",
          "Alien",
          "Human",
          "Alien",
          "Robot",
          "Robot",
          "Robot",
          "Robot",
          "Robot",
          "Alien",
          "Alien",
          "Mythological Creature",
          "Disease",
          "Alien",
          "Human",
          "Robot",
          "Human",
          "Alien",
          "Alien",
          "Human",
          "Alien",
          "Robot",
          "Human",
          "Robot",
          "Human",
          "Alien",
          "Humanoid",
          "Animal",
          "Alien",
          "Cronenberg",
          "Alien",
          "Alien",
          "Alien",
          "Robot",
          "Human",
          "Disease",
          "Disease",
          "Mythological Creature",
          "Human",
          "Human",
          "unknown",
          "Humanoid",
          "Alien",
          "Humanoid",
          "Human",
          "Human",
          "Human",
          "Alien",
          "Alien",
          "Mythological Creature",
          "Human",
          "Human",
          "Human",
          "Human",
          "Animal",
          "Human",
          "Alien",
          "Human",
          "Human",
          "Human",
          "Human",
          "Human",
          "Humanoid",
          "Humanoid",
          "Humanoid",
          "Humanoid",
          "Humanoid",
          "Human",
          "Human",
          "Human",
          "Mythological Creature",
          "Alien",
          "Alien",
          "Cronenberg",
          "Human",
          "Human",
          "Human",
          "Human",
          "Human",
          "Human",
          "Alien",
          "Human",
          "Human",
          "Human",
          "Human",
          "Human",
          "Human",
          "Human",
          "Human",
          "Alien",
          "Human",
          "Human",
          "Alien",
          "Alien",
          "Alien",
          "Alien",
          "Mythological Creature",
          "Humanoid",
          "Alien",
          "Human",
          "Alien",
          "Humanoid",
          "Humanoid",
          "Alien",
          "Human",
          "unknown",
          "Human",
          "Alien",
          "Alien",
          "Alien",
          "Humanoid",
          "Robot",
          "Alien",
          "Humanoid",
          "Alien",
          "Human",
          "Human",
          "Human",
          "Human",
          "Human",
          "Alien",
          "Human",
          "Alien",
          "Alien",
          "Human",
          "Human",
          "Animal",
          "Human",
          "Human",
          "Human",
          "Robot",
          "Robot",
          "Robot",
          "Human",
          "Mythological Creature",
          "Alien",
          "Human",
          "Alien",
          "Human",
          "Robot",
          "Humanoid",
          "Human",
          "Mythological Creature",
          "Human",
          "Humanoid",
          "Human",
          "Human",
          "Humanoid",
          "Human",
          "Human",
          "Alien",
          "Animal",
          "Human",
          "Human",
          "Human",
          "Alien",
          "Alien",
          "Alien",
          "Alien",
          "Alien",
          "Human",
          "Humanoid",
          "Human",
          "Human",
          "Human",
          "Human",
          "Human",
          "Human",
          "Human",
          "Human",
          "Human",
          "Human",
          "Alien",
          "Human",
          "Mythological Creature",
          "Poopybutthole",
          "Alien",
          "Human",
          "Mythological Creature",
          "unknown",
          "Alien",
          "Cronenberg",
          "Human",
          "Human",
          "Humanoid",
          "Humanoid",
          "Mythological Creature",
          "Animal",
          "Animal",
          "Poopybutthole",
          "Human",
          "Human",
          "Human",
          "Alien",
          "Human",
          "Human",
          "Human",
          "Human",
          "Alien",
          "Human",
          "Alien",
          "Humanoid",
          "Alien",
          "Human",
          "Alien",
          "Human",
          "Poopybutthole",
          "Alien",
          "Humanoid",
          "Alien",
          "Human",
          "Human",
          "Human",
          "Human",
          "Alien",
          "Human",
          "Robot",
          "Human",
          "Alien",
          "Alien",
          "Human",
          "Alien",
          "Human",
          "Alien",
          "Humanoid",
          "Robot",
          "Alien",
          "Alien",
          "Humanoid",
          "unknown",
          "unknown",
          "Alien",
          "Human",
          "Humanoid",
          "Human",
          "Humanoid",
          "Human",
          "Human",
          "Alien",
          "Alien",
          "Human",
          "Human",
          "Humanoid",
          "Human",
          "Humanoid",
          "Human",
          "Alien",
          "Animal",
          "Cronenberg",
          "Human",
          "Alien",
          "Human",
          "Human",
          "Human",
          "Human",
          "Human",
          "Human",
          "Human",
          "Alien",
          "Alien",
          "Animal",
          "Human",
          "Human",
          "Human",
          "Robot",
          "Human",
          "Animal",
          "Human",
          "Human",
          "Human",
          "Human",
          "Mythological Creature",
          "Human",
          "Human",
          "Human",
          "Human",
          "Alien",
          "Human",
          "Alien",
          "Human",
          "Alien",
          "Human",
          "Human",
          "Human",
          "Human",
          "Human",
          "Human",
          "Human",
          "Human",
          "Human",
          "Human",
          "Human",
          "Robot",
          "Human",
          "Human",
          "Human",
          "Alien",
          "Alien",
          "Robot",
          "Robot",
          "Robot",
          "Human",
          "Alien",
          "Human",
          "Human",
          "Human",
          "Human",
          "Human",
          "Human",
          "Human",
          "Human",
          "Human",
          "Alien",
          "Human",
          "Alien",
          "Human",
          "Human",
          "Robot",
          "Robot",
          "Robot",
          "Robot",
          "Robot",
          "Mythological Creature",
          "Mythological Creature",
          "Mythological Creature",
          "Mythological Creature",
          "Alien",
          "Alien",
          "Animal",
          "Human",
          "Animal",
          "Alien",
          "Human",
          "Mythological Creature",
          "Mythological Creature",
          "Alien",
          "Human",
          "Human",
          "Alien",
          "Alien",
          "unknown",
          "Human",
          "Human",
          "Human",
          "Human",
          "Human",
          "Alien",
          "Alien",
          "Alien",
          "Alien",
          "Human",
          "Human",
          "Alien",
          "Human",
          "Alien",
          "Human",
          "Mythological Creature",
          "Animal",
          "Humanoid",
          "Human",
          "Mythological Creature",
          "Alien",
          "Animal",
          "Animal",
          "Animal",
          "Animal",
          "Robot",
          "Animal",
          "Robot",
          "Animal",
          "Animal",
          "Animal",
          "Human",
          "Human",
          "Robot",
          "Human",
          "unknown",
          "Animal",
          "Alien",
          "Humanoid",
          "Robot",
          "Robot",
          "Robot",
          "Robot",
          "Robot",
          "Alien",
          "Human",
          "Mythological Creature",
          "Human",
          "Poopybutthole",
          "Alien",
          "Human",
          "Human",
          "Alien",
          "unknown",
          "Human",
          "Alien",
          "Human",
          "Humanoid",
          "Human",
          "Human",
          "Animal",
          "Human",
          "Human",
          "Animal",
          "Cronenberg",
          "Human",
          "Human",
          "Human",
          "Human",
          "Human",
          "Human",
          "Human",
          "unknown",
          "Humanoid",
          "Human",
          "Alien",
          "Human",
          "Human",
          "Alien",
          "Human",
          "Humanoid",
          "Alien",
          "Human",
          "Mythological Creature",
          "Human",
          "Alien",
          "Human",
          "Human",
          "Alien",
          "Human",
          "Alien",
          "Alien",
          "Robot",
          "Robot",
          "Robot",
          "Robot",
          "Robot",
          "Mythological Creature",
          "Human",
          "Humanoid",
          "Humanoid",
          "Alien",
          "Alien",
          "Human",
          "Human",
          "Human",
          "Alien",
          "Humanoid",
          "Human",
          "Alien",
          "Mythological Creature",
          "Humanoid",
          "Humanoid",
          "Human",
          "Human",
          "Mythological Creature",
          "Disease",
          "Alien",
          "Animal",
          "Animal",
          "Animal",
          "Alien",
          "Human",
          "Animal",
          "Human",
          "Alien",
          "Alien",
          "Alien",
          "Human",
          "Human",
          "Mythological Creature",
          "Mythological Creature",
          "Human",
          "Alien",
          "Humanoid",
          "Alien",
          "Alien",
          "Human",
          "Human",
          "Human",
          "Alien",
          "Alien",
          "Humanoid",
          "Humanoid",
          "Animal",
          "Animal",
          "Animal",
          "Animal",
          "Animal",
          "Animal",
          "Human",
          "Alien",
          "Mythological Creature",
          "Robot",
          "Robot",
          "Robot",
          "Robot",
          "Alien",
          "Alien",
          "Human",
          "Human",
          "Alien",
          "Alien",
          "Human",
          "Human",
          "Human",
          "Human",
          "Human",
          "Alien",
          "Mythological Creature",
          "Humanoid",
          "Human",
          "Alien",
          "",
          "",
          "",
          "",
          "",
          "",
          "",
          "",
          "",
          ""
         ],
         "type": "treemap",
         "values": [
          1,
          1,
          1,
          1,
          1,
          2,
          1,
          1,
          1,
          1,
          1,
          1,
          1,
          1,
          1,
          2,
          1,
          1,
          1,
          1,
          1,
          1,
          1,
          1,
          1,
          1,
          1,
          1,
          2,
          1,
          1,
          1,
          1,
          1,
          1,
          1,
          1,
          1,
          1,
          1,
          1,
          1,
          1,
          1,
          1,
          1,
          1,
          1,
          1,
          1,
          1,
          1,
          1,
          1,
          1,
          1,
          1,
          1,
          1,
          1,
          1,
          1,
          1,
          2,
          4,
          1,
          1,
          1,
          1,
          1,
          1,
          1,
          1,
          2,
          1,
          1,
          1,
          1,
          1,
          1,
          1,
          1,
          1,
          1,
          1,
          1,
          1,
          1,
          1,
          1,
          1,
          1,
          1,
          1,
          1,
          1,
          1,
          1,
          1,
          1,
          1,
          1,
          1,
          1,
          1,
          1,
          5,
          1,
          1,
          1,
          2,
          1,
          1,
          2,
          1,
          1,
          1,
          5,
          1,
          1,
          1,
          1,
          1,
          1,
          1,
          1,
          1,
          1,
          1,
          1,
          1,
          1,
          1,
          1,
          2,
          1,
          1,
          1,
          1,
          1,
          1,
          1,
          1,
          1,
          1,
          1,
          1,
          3,
          1,
          3,
          1,
          1,
          1,
          1,
          1,
          1,
          1,
          1,
          1,
          1,
          1,
          1,
          1,
          1,
          1,
          1,
          1,
          1,
          1,
          1,
          1,
          1,
          1,
          1,
          1,
          1,
          1,
          1,
          1,
          1,
          1,
          1,
          1,
          1,
          1,
          1,
          1,
          1,
          1,
          1,
          1,
          1,
          1,
          1,
          1,
          1,
          2,
          1,
          1,
          2,
          1,
          1,
          1,
          1,
          1,
          1,
          1,
          1,
          1,
          1,
          1,
          1,
          1,
          1,
          1,
          1,
          1,
          1,
          1,
          1,
          1,
          1,
          1,
          1,
          1,
          1,
          1,
          1,
          1,
          1,
          1,
          1,
          1,
          1,
          1,
          1,
          1,
          1,
          1,
          1,
          1,
          1,
          1,
          1,
          1,
          1,
          1,
          1,
          1,
          1,
          1,
          1,
          1,
          1,
          1,
          1,
          1,
          1,
          1,
          1,
          1,
          1,
          1,
          1,
          1,
          1,
          1,
          1,
          1,
          1,
          1,
          3,
          1,
          1,
          1,
          1,
          1,
          1,
          1,
          1,
          1,
          1,
          1,
          1,
          1,
          1,
          1,
          1,
          1,
          1,
          1,
          1,
          1,
          1,
          2,
          1,
          1,
          1,
          1,
          1,
          1,
          1,
          1,
          1,
          1,
          1,
          1,
          1,
          1,
          1,
          1,
          1,
          1,
          1,
          1,
          1,
          1,
          1,
          1,
          1,
          1,
          1,
          1,
          1,
          3,
          1,
          1,
          1,
          1,
          1,
          1,
          1,
          1,
          1,
          1,
          1,
          1,
          1,
          1,
          1,
          1,
          1,
          1,
          1,
          1,
          1,
          1,
          1,
          1,
          1,
          1,
          1,
          1,
          1,
          1,
          1,
          1,
          1,
          1,
          1,
          1,
          1,
          1,
          1,
          1,
          1,
          1,
          1,
          1,
          1,
          1,
          1,
          1,
          1,
          1,
          1,
          1,
          1,
          1,
          1,
          1,
          1,
          1,
          1,
          1,
          1,
          1,
          1,
          1,
          1,
          1,
          2,
          1,
          1,
          1,
          1,
          1,
          1,
          1,
          1,
          1,
          1,
          1,
          1,
          1,
          1,
          1,
          1,
          1,
          1,
          1,
          1,
          1,
          1,
          3,
          1,
          1,
          1,
          1,
          1,
          4,
          1,
          1,
          1,
          1,
          1,
          1,
          1,
          1,
          1,
          1,
          1,
          1,
          1,
          1,
          1,
          1,
          1,
          1,
          1,
          1,
          1,
          1,
          1,
          1,
          1,
          1,
          1,
          1,
          1,
          1,
          1,
          1,
          1,
          1,
          1,
          1,
          1,
          1,
          2,
          1,
          1,
          1,
          1,
          1,
          1,
          1,
          1,
          1,
          1,
          1,
          1,
          1,
          1,
          1,
          1,
          1,
          1,
          2,
          2,
          1,
          1,
          1,
          1,
          1,
          1,
          1,
          1,
          2,
          2,
          1,
          1,
          1,
          1,
          1,
          1,
          1,
          1,
          1,
          1,
          1,
          1,
          1,
          1,
          1,
          1,
          1,
          1,
          1,
          1,
          1,
          1,
          1,
          1,
          1,
          1,
          1,
          1,
          1,
          1,
          1,
          1,
          1,
          1,
          1,
          1,
          1,
          1,
          1,
          1,
          1,
          1,
          1,
          2,
          1,
          2,
          1,
          1,
          1,
          1,
          1,
          1,
          1,
          1,
          1,
          1,
          4,
          1,
          1,
          1,
          1,
          1,
          1,
          1,
          1,
          1,
          1,
          1,
          1,
          1,
          1,
          1,
          1,
          1,
          1,
          4,
          1,
          1,
          1,
          1,
          1,
          1,
          1,
          1,
          1,
          1,
          1,
          1,
          1,
          1,
          1,
          1,
          1,
          1,
          1,
          1,
          1,
          1,
          1,
          1,
          1,
          1,
          1,
          1,
          1,
          1,
          1,
          1,
          1,
          1,
          1,
          1,
          1,
          1,
          1,
          1,
          1,
          1,
          1,
          1,
          1,
          1,
          1,
          1,
          1,
          1,
          1,
          1,
          1,
          1,
          1,
          1,
          1,
          1,
          1,
          1,
          1,
          1,
          1,
          1,
          1,
          1,
          1,
          1,
          1,
          1,
          1,
          1,
          1,
          1,
          1,
          1,
          1,
          1,
          1,
          1,
          2,
          1,
          1,
          1,
          1,
          1,
          4,
          1,
          1,
          1,
          1,
          1,
          1,
          1,
          1,
          2,
          1,
          1,
          1,
          1,
          1,
          1,
          1,
          1,
          1,
          1,
          1,
          1,
          1,
          1,
          1,
          1,
          1,
          1,
          1,
          1,
          1,
          1,
          1,
          1,
          1,
          1,
          1,
          1,
          1,
          1,
          1,
          1,
          1,
          1,
          1,
          1,
          1,
          1,
          1,
          1,
          1,
          1,
          1,
          1,
          1,
          1,
          1,
          1,
          1,
          1,
          1,
          1,
          1,
          1,
          1,
          1,
          1,
          1,
          1,
          1,
          1,
          1,
          1,
          1,
          1,
          1,
          1,
          1,
          1,
          1,
          1,
          1,
          1,
          1,
          2,
          1,
          1,
          1,
          1,
          1,
          1,
          1,
          1,
          1,
          1,
          1,
          1,
          1,
          1,
          1,
          1,
          1,
          1,
          1,
          1,
          1,
          1,
          1,
          1,
          2,
          2,
          1,
          1,
          1,
          1,
          1,
          1,
          205,
          55,
          8,
          6,
          366,
          68,
          46,
          8,
          51,
          13
         ]
        }
       ],
       "layout": {
        "height": 700,
        "legend": {
         "tracegroupgap": 0
        },
        "template": {
         "data": {
          "bar": [
           {
            "error_x": {
             "color": "#f2f5fa"
            },
            "error_y": {
             "color": "#f2f5fa"
            },
            "marker": {
             "line": {
              "color": "rgb(17,17,17)",
              "width": 0.5
             },
             "pattern": {
              "fillmode": "overlay",
              "size": 10,
              "solidity": 0.2
             }
            },
            "type": "bar"
           }
          ],
          "barpolar": [
           {
            "marker": {
             "line": {
              "color": "rgb(17,17,17)",
              "width": 0.5
             },
             "pattern": {
              "fillmode": "overlay",
              "size": 10,
              "solidity": 0.2
             }
            },
            "type": "barpolar"
           }
          ],
          "carpet": [
           {
            "aaxis": {
             "endlinecolor": "#A2B1C6",
             "gridcolor": "#506784",
             "linecolor": "#506784",
             "minorgridcolor": "#506784",
             "startlinecolor": "#A2B1C6"
            },
            "baxis": {
             "endlinecolor": "#A2B1C6",
             "gridcolor": "#506784",
             "linecolor": "#506784",
             "minorgridcolor": "#506784",
             "startlinecolor": "#A2B1C6"
            },
            "type": "carpet"
           }
          ],
          "choropleth": [
           {
            "colorbar": {
             "outlinewidth": 0,
             "ticks": ""
            },
            "type": "choropleth"
           }
          ],
          "contour": [
           {
            "colorbar": {
             "outlinewidth": 0,
             "ticks": ""
            },
            "colorscale": [
             [
              0,
              "#0d0887"
             ],
             [
              0.1111111111111111,
              "#46039f"
             ],
             [
              0.2222222222222222,
              "#7201a8"
             ],
             [
              0.3333333333333333,
              "#9c179e"
             ],
             [
              0.4444444444444444,
              "#bd3786"
             ],
             [
              0.5555555555555556,
              "#d8576b"
             ],
             [
              0.6666666666666666,
              "#ed7953"
             ],
             [
              0.7777777777777778,
              "#fb9f3a"
             ],
             [
              0.8888888888888888,
              "#fdca26"
             ],
             [
              1,
              "#f0f921"
             ]
            ],
            "type": "contour"
           }
          ],
          "contourcarpet": [
           {
            "colorbar": {
             "outlinewidth": 0,
             "ticks": ""
            },
            "type": "contourcarpet"
           }
          ],
          "heatmap": [
           {
            "colorbar": {
             "outlinewidth": 0,
             "ticks": ""
            },
            "colorscale": [
             [
              0,
              "#0d0887"
             ],
             [
              0.1111111111111111,
              "#46039f"
             ],
             [
              0.2222222222222222,
              "#7201a8"
             ],
             [
              0.3333333333333333,
              "#9c179e"
             ],
             [
              0.4444444444444444,
              "#bd3786"
             ],
             [
              0.5555555555555556,
              "#d8576b"
             ],
             [
              0.6666666666666666,
              "#ed7953"
             ],
             [
              0.7777777777777778,
              "#fb9f3a"
             ],
             [
              0.8888888888888888,
              "#fdca26"
             ],
             [
              1,
              "#f0f921"
             ]
            ],
            "type": "heatmap"
           }
          ],
          "heatmapgl": [
           {
            "colorbar": {
             "outlinewidth": 0,
             "ticks": ""
            },
            "colorscale": [
             [
              0,
              "#0d0887"
             ],
             [
              0.1111111111111111,
              "#46039f"
             ],
             [
              0.2222222222222222,
              "#7201a8"
             ],
             [
              0.3333333333333333,
              "#9c179e"
             ],
             [
              0.4444444444444444,
              "#bd3786"
             ],
             [
              0.5555555555555556,
              "#d8576b"
             ],
             [
              0.6666666666666666,
              "#ed7953"
             ],
             [
              0.7777777777777778,
              "#fb9f3a"
             ],
             [
              0.8888888888888888,
              "#fdca26"
             ],
             [
              1,
              "#f0f921"
             ]
            ],
            "type": "heatmapgl"
           }
          ],
          "histogram": [
           {
            "marker": {
             "pattern": {
              "fillmode": "overlay",
              "size": 10,
              "solidity": 0.2
             }
            },
            "type": "histogram"
           }
          ],
          "histogram2d": [
           {
            "colorbar": {
             "outlinewidth": 0,
             "ticks": ""
            },
            "colorscale": [
             [
              0,
              "#0d0887"
             ],
             [
              0.1111111111111111,
              "#46039f"
             ],
             [
              0.2222222222222222,
              "#7201a8"
             ],
             [
              0.3333333333333333,
              "#9c179e"
             ],
             [
              0.4444444444444444,
              "#bd3786"
             ],
             [
              0.5555555555555556,
              "#d8576b"
             ],
             [
              0.6666666666666666,
              "#ed7953"
             ],
             [
              0.7777777777777778,
              "#fb9f3a"
             ],
             [
              0.8888888888888888,
              "#fdca26"
             ],
             [
              1,
              "#f0f921"
             ]
            ],
            "type": "histogram2d"
           }
          ],
          "histogram2dcontour": [
           {
            "colorbar": {
             "outlinewidth": 0,
             "ticks": ""
            },
            "colorscale": [
             [
              0,
              "#0d0887"
             ],
             [
              0.1111111111111111,
              "#46039f"
             ],
             [
              0.2222222222222222,
              "#7201a8"
             ],
             [
              0.3333333333333333,
              "#9c179e"
             ],
             [
              0.4444444444444444,
              "#bd3786"
             ],
             [
              0.5555555555555556,
              "#d8576b"
             ],
             [
              0.6666666666666666,
              "#ed7953"
             ],
             [
              0.7777777777777778,
              "#fb9f3a"
             ],
             [
              0.8888888888888888,
              "#fdca26"
             ],
             [
              1,
              "#f0f921"
             ]
            ],
            "type": "histogram2dcontour"
           }
          ],
          "mesh3d": [
           {
            "colorbar": {
             "outlinewidth": 0,
             "ticks": ""
            },
            "type": "mesh3d"
           }
          ],
          "parcoords": [
           {
            "line": {
             "colorbar": {
              "outlinewidth": 0,
              "ticks": ""
             }
            },
            "type": "parcoords"
           }
          ],
          "pie": [
           {
            "automargin": true,
            "type": "pie"
           }
          ],
          "scatter": [
           {
            "marker": {
             "line": {
              "color": "#283442"
             }
            },
            "type": "scatter"
           }
          ],
          "scatter3d": [
           {
            "line": {
             "colorbar": {
              "outlinewidth": 0,
              "ticks": ""
             }
            },
            "marker": {
             "colorbar": {
              "outlinewidth": 0,
              "ticks": ""
             }
            },
            "type": "scatter3d"
           }
          ],
          "scattercarpet": [
           {
            "marker": {
             "colorbar": {
              "outlinewidth": 0,
              "ticks": ""
             }
            },
            "type": "scattercarpet"
           }
          ],
          "scattergeo": [
           {
            "marker": {
             "colorbar": {
              "outlinewidth": 0,
              "ticks": ""
             }
            },
            "type": "scattergeo"
           }
          ],
          "scattergl": [
           {
            "marker": {
             "line": {
              "color": "#283442"
             }
            },
            "type": "scattergl"
           }
          ],
          "scattermapbox": [
           {
            "marker": {
             "colorbar": {
              "outlinewidth": 0,
              "ticks": ""
             }
            },
            "type": "scattermapbox"
           }
          ],
          "scatterpolar": [
           {
            "marker": {
             "colorbar": {
              "outlinewidth": 0,
              "ticks": ""
             }
            },
            "type": "scatterpolar"
           }
          ],
          "scatterpolargl": [
           {
            "marker": {
             "colorbar": {
              "outlinewidth": 0,
              "ticks": ""
             }
            },
            "type": "scatterpolargl"
           }
          ],
          "scatterternary": [
           {
            "marker": {
             "colorbar": {
              "outlinewidth": 0,
              "ticks": ""
             }
            },
            "type": "scatterternary"
           }
          ],
          "surface": [
           {
            "colorbar": {
             "outlinewidth": 0,
             "ticks": ""
            },
            "colorscale": [
             [
              0,
              "#0d0887"
             ],
             [
              0.1111111111111111,
              "#46039f"
             ],
             [
              0.2222222222222222,
              "#7201a8"
             ],
             [
              0.3333333333333333,
              "#9c179e"
             ],
             [
              0.4444444444444444,
              "#bd3786"
             ],
             [
              0.5555555555555556,
              "#d8576b"
             ],
             [
              0.6666666666666666,
              "#ed7953"
             ],
             [
              0.7777777777777778,
              "#fb9f3a"
             ],
             [
              0.8888888888888888,
              "#fdca26"
             ],
             [
              1,
              "#f0f921"
             ]
            ],
            "type": "surface"
           }
          ],
          "table": [
           {
            "cells": {
             "fill": {
              "color": "#506784"
             },
             "line": {
              "color": "rgb(17,17,17)"
             }
            },
            "header": {
             "fill": {
              "color": "#2a3f5f"
             },
             "line": {
              "color": "rgb(17,17,17)"
             }
            },
            "type": "table"
           }
          ]
         },
         "layout": {
          "annotationdefaults": {
           "arrowcolor": "#f2f5fa",
           "arrowhead": 0,
           "arrowwidth": 1
          },
          "autotypenumbers": "strict",
          "coloraxis": {
           "colorbar": {
            "outlinewidth": 0,
            "ticks": ""
           }
          },
          "colorscale": {
           "diverging": [
            [
             0,
             "#8e0152"
            ],
            [
             0.1,
             "#c51b7d"
            ],
            [
             0.2,
             "#de77ae"
            ],
            [
             0.3,
             "#f1b6da"
            ],
            [
             0.4,
             "#fde0ef"
            ],
            [
             0.5,
             "#f7f7f7"
            ],
            [
             0.6,
             "#e6f5d0"
            ],
            [
             0.7,
             "#b8e186"
            ],
            [
             0.8,
             "#7fbc41"
            ],
            [
             0.9,
             "#4d9221"
            ],
            [
             1,
             "#276419"
            ]
           ],
           "sequential": [
            [
             0,
             "#0d0887"
            ],
            [
             0.1111111111111111,
             "#46039f"
            ],
            [
             0.2222222222222222,
             "#7201a8"
            ],
            [
             0.3333333333333333,
             "#9c179e"
            ],
            [
             0.4444444444444444,
             "#bd3786"
            ],
            [
             0.5555555555555556,
             "#d8576b"
            ],
            [
             0.6666666666666666,
             "#ed7953"
            ],
            [
             0.7777777777777778,
             "#fb9f3a"
            ],
            [
             0.8888888888888888,
             "#fdca26"
            ],
            [
             1,
             "#f0f921"
            ]
           ],
           "sequentialminus": [
            [
             0,
             "#0d0887"
            ],
            [
             0.1111111111111111,
             "#46039f"
            ],
            [
             0.2222222222222222,
             "#7201a8"
            ],
            [
             0.3333333333333333,
             "#9c179e"
            ],
            [
             0.4444444444444444,
             "#bd3786"
            ],
            [
             0.5555555555555556,
             "#d8576b"
            ],
            [
             0.6666666666666666,
             "#ed7953"
            ],
            [
             0.7777777777777778,
             "#fb9f3a"
            ],
            [
             0.8888888888888888,
             "#fdca26"
            ],
            [
             1,
             "#f0f921"
            ]
           ]
          },
          "colorway": [
           "#636efa",
           "#EF553B",
           "#00cc96",
           "#ab63fa",
           "#FFA15A",
           "#19d3f3",
           "#FF6692",
           "#B6E880",
           "#FF97FF",
           "#FECB52"
          ],
          "font": {
           "color": "#f2f5fa"
          },
          "geo": {
           "bgcolor": "rgb(17,17,17)",
           "lakecolor": "rgb(17,17,17)",
           "landcolor": "rgb(17,17,17)",
           "showlakes": true,
           "showland": true,
           "subunitcolor": "#506784"
          },
          "hoverlabel": {
           "align": "left"
          },
          "hovermode": "closest",
          "mapbox": {
           "style": "dark"
          },
          "paper_bgcolor": "rgb(17,17,17)",
          "plot_bgcolor": "rgb(17,17,17)",
          "polar": {
           "angularaxis": {
            "gridcolor": "#506784",
            "linecolor": "#506784",
            "ticks": ""
           },
           "bgcolor": "rgb(17,17,17)",
           "radialaxis": {
            "gridcolor": "#506784",
            "linecolor": "#506784",
            "ticks": ""
           }
          },
          "scene": {
           "xaxis": {
            "backgroundcolor": "rgb(17,17,17)",
            "gridcolor": "#506784",
            "gridwidth": 2,
            "linecolor": "#506784",
            "showbackground": true,
            "ticks": "",
            "zerolinecolor": "#C8D4E3"
           },
           "yaxis": {
            "backgroundcolor": "rgb(17,17,17)",
            "gridcolor": "#506784",
            "gridwidth": 2,
            "linecolor": "#506784",
            "showbackground": true,
            "ticks": "",
            "zerolinecolor": "#C8D4E3"
           },
           "zaxis": {
            "backgroundcolor": "rgb(17,17,17)",
            "gridcolor": "#506784",
            "gridwidth": 2,
            "linecolor": "#506784",
            "showbackground": true,
            "ticks": "",
            "zerolinecolor": "#C8D4E3"
           }
          },
          "shapedefaults": {
           "line": {
            "color": "#f2f5fa"
           }
          },
          "sliderdefaults": {
           "bgcolor": "#C8D4E3",
           "bordercolor": "rgb(17,17,17)",
           "borderwidth": 1,
           "tickwidth": 0
          },
          "ternary": {
           "aaxis": {
            "gridcolor": "#506784",
            "linecolor": "#506784",
            "ticks": ""
           },
           "baxis": {
            "gridcolor": "#506784",
            "linecolor": "#506784",
            "ticks": ""
           },
           "bgcolor": "rgb(17,17,17)",
           "caxis": {
            "gridcolor": "#506784",
            "linecolor": "#506784",
            "ticks": ""
           }
          },
          "title": {
           "x": 0.05
          },
          "updatemenudefaults": {
           "bgcolor": "#506784",
           "borderwidth": 0
          },
          "xaxis": {
           "automargin": true,
           "gridcolor": "#283442",
           "linecolor": "#506784",
           "ticks": "",
           "title": {
            "standoff": 15
           },
           "zerolinecolor": "#283442",
           "zerolinewidth": 2
          },
          "yaxis": {
           "automargin": true,
           "gridcolor": "#283442",
           "linecolor": "#506784",
           "ticks": "",
           "title": {
            "standoff": 15
           },
           "zerolinecolor": "#283442",
           "zerolinewidth": 2
          }
         }
        },
        "title": {
         "text": "Tamaño de las especies"
        },
        "treemapcolorway": [
         "rgb(27,158,119)",
         "rgb(217,95,2)",
         "rgb(117,112,179)",
         "rgb(231,41,138)",
         "rgb(102,166,30)",
         "rgb(230,171,2)",
         "rgb(166,118,29)",
         "rgb(102,102,102)"
        ]
       }
      }
     },
     "metadata": {},
     "output_type": "display_data"
    }
   ],
   "source": [
    "especies = df[['species','name']].value_counts().reset_index()\n",
    "especies\n",
    "px.treemap(especies, path=['species','name'], values='count', \n",
    "           height=700, title='Tamaño de las especies', \n",
    "           color_discrete_sequence = px.colors.qualitative.Dark2, \n",
    "           template= 'plotly_dark',\n",
    "           labels={'labels':'Nombre','count':'Cantidad', 'parent':'Especie'})"
   ]
  }
 ],
 "metadata": {
  "kernelspec": {
   "display_name": "Python 3",
   "language": "python",
   "name": "python3"
  },
  "language_info": {
   "codemirror_mode": {
    "name": "ipython",
    "version": 3
   },
   "file_extension": ".py",
   "mimetype": "text/x-python",
   "name": "python",
   "nbconvert_exporter": "python",
   "pygments_lexer": "ipython3",
   "version": "3.10.11"
  }
 },
 "nbformat": 4,
 "nbformat_minor": 2
}
